{
  "nbformat": 4,
  "nbformat_minor": 0,
  "metadata": {
    "colab": {
      "provenance": [],
      "gpuType": "T4",
      "authorship_tag": "ABX9TyPng40+KGPAO/NcqG2bkOWt",
      "include_colab_link": true
    },
    "kernelspec": {
      "name": "python3",
      "display_name": "Python 3"
    },
    "language_info": {
      "name": "python"
    },
    "accelerator": "GPU",
    "widgets": {
      "application/vnd.jupyter.widget-state+json": {
        "446dfee355b14e029f5ad82ac159e695": {
          "model_module": "@jupyter-widgets/controls",
          "model_name": "VBoxModel",
          "model_module_version": "1.5.0",
          "state": {
            "_dom_classes": [],
            "_model_module": "@jupyter-widgets/controls",
            "_model_module_version": "1.5.0",
            "_model_name": "VBoxModel",
            "_view_count": null,
            "_view_module": "@jupyter-widgets/controls",
            "_view_module_version": "1.5.0",
            "_view_name": "VBoxView",
            "box_style": "",
            "children": [
              "IPY_MODEL_19da638ff98b44b89868b49dcefa8d27",
              "IPY_MODEL_a3c22d1933b943b7b9074d43bb1d3d36",
              "IPY_MODEL_c675ef370f4a498090af8450921ca4e2",
              "IPY_MODEL_acd442bd5a6d4e288d6fa38f48cbe0f1"
            ],
            "layout": "IPY_MODEL_5c82a88ef8854810a84de6145c07bbad"
          }
        },
        "5e06e23c2f8545368501963784e3d35a": {
          "model_module": "@jupyter-widgets/controls",
          "model_name": "HTMLModel",
          "model_module_version": "1.5.0",
          "state": {
            "_dom_classes": [],
            "_model_module": "@jupyter-widgets/controls",
            "_model_module_version": "1.5.0",
            "_model_name": "HTMLModel",
            "_view_count": null,
            "_view_module": "@jupyter-widgets/controls",
            "_view_module_version": "1.5.0",
            "_view_name": "HTMLView",
            "description": "",
            "description_tooltip": null,
            "layout": "IPY_MODEL_7838cb0970494980bf524272ed789288",
            "placeholder": "​",
            "style": "IPY_MODEL_b1e809e525bc4462af94de94481286df",
            "value": "<center> <img\nsrc=https://huggingface.co/front/assets/huggingface_logo-noborder.svg\nalt='Hugging Face'> <br> Copy a token from <a\nhref=\"https://huggingface.co/settings/tokens\" target=\"_blank\">your Hugging Face\ntokens page</a> and paste it below. <br> Immediately click login after copying\nyour token or it might be stored in plain text in this notebook file. </center>"
          }
        },
        "931cb9f9a5da4562b232b596e628c843": {
          "model_module": "@jupyter-widgets/controls",
          "model_name": "PasswordModel",
          "model_module_version": "1.5.0",
          "state": {
            "_dom_classes": [],
            "_model_module": "@jupyter-widgets/controls",
            "_model_module_version": "1.5.0",
            "_model_name": "PasswordModel",
            "_view_count": null,
            "_view_module": "@jupyter-widgets/controls",
            "_view_module_version": "1.5.0",
            "_view_name": "PasswordView",
            "continuous_update": true,
            "description": "Token:",
            "description_tooltip": null,
            "disabled": false,
            "layout": "IPY_MODEL_87c78066c02e48a38f2cc7d705f212a4",
            "placeholder": "​",
            "style": "IPY_MODEL_f710e3fe71db44cfbc5e76daa084fcfd",
            "value": ""
          }
        },
        "ff65c57f3a374aa190ee5e295547b602": {
          "model_module": "@jupyter-widgets/controls",
          "model_name": "CheckboxModel",
          "model_module_version": "1.5.0",
          "state": {
            "_dom_classes": [],
            "_model_module": "@jupyter-widgets/controls",
            "_model_module_version": "1.5.0",
            "_model_name": "CheckboxModel",
            "_view_count": null,
            "_view_module": "@jupyter-widgets/controls",
            "_view_module_version": "1.5.0",
            "_view_name": "CheckboxView",
            "description": "Add token as git credential?",
            "description_tooltip": null,
            "disabled": false,
            "indent": true,
            "layout": "IPY_MODEL_30c5c0687c7b40b28c02b35f5d6d84d8",
            "style": "IPY_MODEL_e3a07c1d162b49549096c178b22fb47e",
            "value": true
          }
        },
        "11eb4256d78d43ee903c2884772e4655": {
          "model_module": "@jupyter-widgets/controls",
          "model_name": "ButtonModel",
          "model_module_version": "1.5.0",
          "state": {
            "_dom_classes": [],
            "_model_module": "@jupyter-widgets/controls",
            "_model_module_version": "1.5.0",
            "_model_name": "ButtonModel",
            "_view_count": null,
            "_view_module": "@jupyter-widgets/controls",
            "_view_module_version": "1.5.0",
            "_view_name": "ButtonView",
            "button_style": "",
            "description": "Login",
            "disabled": false,
            "icon": "",
            "layout": "IPY_MODEL_e038fe1f3b1745c4b200674399321bfc",
            "style": "IPY_MODEL_47aef8c1f95045139a1f622525fd7283",
            "tooltip": ""
          }
        },
        "8afc146e1b3e484ab6f9f1d04debaf32": {
          "model_module": "@jupyter-widgets/controls",
          "model_name": "HTMLModel",
          "model_module_version": "1.5.0",
          "state": {
            "_dom_classes": [],
            "_model_module": "@jupyter-widgets/controls",
            "_model_module_version": "1.5.0",
            "_model_name": "HTMLModel",
            "_view_count": null,
            "_view_module": "@jupyter-widgets/controls",
            "_view_module_version": "1.5.0",
            "_view_name": "HTMLView",
            "description": "",
            "description_tooltip": null,
            "layout": "IPY_MODEL_15c72d26695b45fab149ee9d1dbbde58",
            "placeholder": "​",
            "style": "IPY_MODEL_ea25c320a34e43cea6c4a218c999e2c4",
            "value": "\n<b>Pro Tip:</b> If you don't already have one, you can create a dedicated\n'notebooks' token with 'write' access, that you can then easily reuse for all\nnotebooks. </center>"
          }
        },
        "5c82a88ef8854810a84de6145c07bbad": {
          "model_module": "@jupyter-widgets/base",
          "model_name": "LayoutModel",
          "model_module_version": "1.2.0",
          "state": {
            "_model_module": "@jupyter-widgets/base",
            "_model_module_version": "1.2.0",
            "_model_name": "LayoutModel",
            "_view_count": null,
            "_view_module": "@jupyter-widgets/base",
            "_view_module_version": "1.2.0",
            "_view_name": "LayoutView",
            "align_content": null,
            "align_items": "center",
            "align_self": null,
            "border": null,
            "bottom": null,
            "display": "flex",
            "flex": null,
            "flex_flow": "column",
            "grid_area": null,
            "grid_auto_columns": null,
            "grid_auto_flow": null,
            "grid_auto_rows": null,
            "grid_column": null,
            "grid_gap": null,
            "grid_row": null,
            "grid_template_areas": null,
            "grid_template_columns": null,
            "grid_template_rows": null,
            "height": null,
            "justify_content": null,
            "justify_items": null,
            "left": null,
            "margin": null,
            "max_height": null,
            "max_width": null,
            "min_height": null,
            "min_width": null,
            "object_fit": null,
            "object_position": null,
            "order": null,
            "overflow": null,
            "overflow_x": null,
            "overflow_y": null,
            "padding": null,
            "right": null,
            "top": null,
            "visibility": null,
            "width": "50%"
          }
        },
        "7838cb0970494980bf524272ed789288": {
          "model_module": "@jupyter-widgets/base",
          "model_name": "LayoutModel",
          "model_module_version": "1.2.0",
          "state": {
            "_model_module": "@jupyter-widgets/base",
            "_model_module_version": "1.2.0",
            "_model_name": "LayoutModel",
            "_view_count": null,
            "_view_module": "@jupyter-widgets/base",
            "_view_module_version": "1.2.0",
            "_view_name": "LayoutView",
            "align_content": null,
            "align_items": null,
            "align_self": null,
            "border": null,
            "bottom": null,
            "display": null,
            "flex": null,
            "flex_flow": null,
            "grid_area": null,
            "grid_auto_columns": null,
            "grid_auto_flow": null,
            "grid_auto_rows": null,
            "grid_column": null,
            "grid_gap": null,
            "grid_row": null,
            "grid_template_areas": null,
            "grid_template_columns": null,
            "grid_template_rows": null,
            "height": null,
            "justify_content": null,
            "justify_items": null,
            "left": null,
            "margin": null,
            "max_height": null,
            "max_width": null,
            "min_height": null,
            "min_width": null,
            "object_fit": null,
            "object_position": null,
            "order": null,
            "overflow": null,
            "overflow_x": null,
            "overflow_y": null,
            "padding": null,
            "right": null,
            "top": null,
            "visibility": null,
            "width": null
          }
        },
        "b1e809e525bc4462af94de94481286df": {
          "model_module": "@jupyter-widgets/controls",
          "model_name": "DescriptionStyleModel",
          "model_module_version": "1.5.0",
          "state": {
            "_model_module": "@jupyter-widgets/controls",
            "_model_module_version": "1.5.0",
            "_model_name": "DescriptionStyleModel",
            "_view_count": null,
            "_view_module": "@jupyter-widgets/base",
            "_view_module_version": "1.2.0",
            "_view_name": "StyleView",
            "description_width": ""
          }
        },
        "87c78066c02e48a38f2cc7d705f212a4": {
          "model_module": "@jupyter-widgets/base",
          "model_name": "LayoutModel",
          "model_module_version": "1.2.0",
          "state": {
            "_model_module": "@jupyter-widgets/base",
            "_model_module_version": "1.2.0",
            "_model_name": "LayoutModel",
            "_view_count": null,
            "_view_module": "@jupyter-widgets/base",
            "_view_module_version": "1.2.0",
            "_view_name": "LayoutView",
            "align_content": null,
            "align_items": null,
            "align_self": null,
            "border": null,
            "bottom": null,
            "display": null,
            "flex": null,
            "flex_flow": null,
            "grid_area": null,
            "grid_auto_columns": null,
            "grid_auto_flow": null,
            "grid_auto_rows": null,
            "grid_column": null,
            "grid_gap": null,
            "grid_row": null,
            "grid_template_areas": null,
            "grid_template_columns": null,
            "grid_template_rows": null,
            "height": null,
            "justify_content": null,
            "justify_items": null,
            "left": null,
            "margin": null,
            "max_height": null,
            "max_width": null,
            "min_height": null,
            "min_width": null,
            "object_fit": null,
            "object_position": null,
            "order": null,
            "overflow": null,
            "overflow_x": null,
            "overflow_y": null,
            "padding": null,
            "right": null,
            "top": null,
            "visibility": null,
            "width": null
          }
        },
        "f710e3fe71db44cfbc5e76daa084fcfd": {
          "model_module": "@jupyter-widgets/controls",
          "model_name": "DescriptionStyleModel",
          "model_module_version": "1.5.0",
          "state": {
            "_model_module": "@jupyter-widgets/controls",
            "_model_module_version": "1.5.0",
            "_model_name": "DescriptionStyleModel",
            "_view_count": null,
            "_view_module": "@jupyter-widgets/base",
            "_view_module_version": "1.2.0",
            "_view_name": "StyleView",
            "description_width": ""
          }
        },
        "30c5c0687c7b40b28c02b35f5d6d84d8": {
          "model_module": "@jupyter-widgets/base",
          "model_name": "LayoutModel",
          "model_module_version": "1.2.0",
          "state": {
            "_model_module": "@jupyter-widgets/base",
            "_model_module_version": "1.2.0",
            "_model_name": "LayoutModel",
            "_view_count": null,
            "_view_module": "@jupyter-widgets/base",
            "_view_module_version": "1.2.0",
            "_view_name": "LayoutView",
            "align_content": null,
            "align_items": null,
            "align_self": null,
            "border": null,
            "bottom": null,
            "display": null,
            "flex": null,
            "flex_flow": null,
            "grid_area": null,
            "grid_auto_columns": null,
            "grid_auto_flow": null,
            "grid_auto_rows": null,
            "grid_column": null,
            "grid_gap": null,
            "grid_row": null,
            "grid_template_areas": null,
            "grid_template_columns": null,
            "grid_template_rows": null,
            "height": null,
            "justify_content": null,
            "justify_items": null,
            "left": null,
            "margin": null,
            "max_height": null,
            "max_width": null,
            "min_height": null,
            "min_width": null,
            "object_fit": null,
            "object_position": null,
            "order": null,
            "overflow": null,
            "overflow_x": null,
            "overflow_y": null,
            "padding": null,
            "right": null,
            "top": null,
            "visibility": null,
            "width": null
          }
        },
        "e3a07c1d162b49549096c178b22fb47e": {
          "model_module": "@jupyter-widgets/controls",
          "model_name": "DescriptionStyleModel",
          "model_module_version": "1.5.0",
          "state": {
            "_model_module": "@jupyter-widgets/controls",
            "_model_module_version": "1.5.0",
            "_model_name": "DescriptionStyleModel",
            "_view_count": null,
            "_view_module": "@jupyter-widgets/base",
            "_view_module_version": "1.2.0",
            "_view_name": "StyleView",
            "description_width": ""
          }
        },
        "e038fe1f3b1745c4b200674399321bfc": {
          "model_module": "@jupyter-widgets/base",
          "model_name": "LayoutModel",
          "model_module_version": "1.2.0",
          "state": {
            "_model_module": "@jupyter-widgets/base",
            "_model_module_version": "1.2.0",
            "_model_name": "LayoutModel",
            "_view_count": null,
            "_view_module": "@jupyter-widgets/base",
            "_view_module_version": "1.2.0",
            "_view_name": "LayoutView",
            "align_content": null,
            "align_items": null,
            "align_self": null,
            "border": null,
            "bottom": null,
            "display": null,
            "flex": null,
            "flex_flow": null,
            "grid_area": null,
            "grid_auto_columns": null,
            "grid_auto_flow": null,
            "grid_auto_rows": null,
            "grid_column": null,
            "grid_gap": null,
            "grid_row": null,
            "grid_template_areas": null,
            "grid_template_columns": null,
            "grid_template_rows": null,
            "height": null,
            "justify_content": null,
            "justify_items": null,
            "left": null,
            "margin": null,
            "max_height": null,
            "max_width": null,
            "min_height": null,
            "min_width": null,
            "object_fit": null,
            "object_position": null,
            "order": null,
            "overflow": null,
            "overflow_x": null,
            "overflow_y": null,
            "padding": null,
            "right": null,
            "top": null,
            "visibility": null,
            "width": null
          }
        },
        "47aef8c1f95045139a1f622525fd7283": {
          "model_module": "@jupyter-widgets/controls",
          "model_name": "ButtonStyleModel",
          "model_module_version": "1.5.0",
          "state": {
            "_model_module": "@jupyter-widgets/controls",
            "_model_module_version": "1.5.0",
            "_model_name": "ButtonStyleModel",
            "_view_count": null,
            "_view_module": "@jupyter-widgets/base",
            "_view_module_version": "1.2.0",
            "_view_name": "StyleView",
            "button_color": null,
            "font_weight": ""
          }
        },
        "15c72d26695b45fab149ee9d1dbbde58": {
          "model_module": "@jupyter-widgets/base",
          "model_name": "LayoutModel",
          "model_module_version": "1.2.0",
          "state": {
            "_model_module": "@jupyter-widgets/base",
            "_model_module_version": "1.2.0",
            "_model_name": "LayoutModel",
            "_view_count": null,
            "_view_module": "@jupyter-widgets/base",
            "_view_module_version": "1.2.0",
            "_view_name": "LayoutView",
            "align_content": null,
            "align_items": null,
            "align_self": null,
            "border": null,
            "bottom": null,
            "display": null,
            "flex": null,
            "flex_flow": null,
            "grid_area": null,
            "grid_auto_columns": null,
            "grid_auto_flow": null,
            "grid_auto_rows": null,
            "grid_column": null,
            "grid_gap": null,
            "grid_row": null,
            "grid_template_areas": null,
            "grid_template_columns": null,
            "grid_template_rows": null,
            "height": null,
            "justify_content": null,
            "justify_items": null,
            "left": null,
            "margin": null,
            "max_height": null,
            "max_width": null,
            "min_height": null,
            "min_width": null,
            "object_fit": null,
            "object_position": null,
            "order": null,
            "overflow": null,
            "overflow_x": null,
            "overflow_y": null,
            "padding": null,
            "right": null,
            "top": null,
            "visibility": null,
            "width": null
          }
        },
        "ea25c320a34e43cea6c4a218c999e2c4": {
          "model_module": "@jupyter-widgets/controls",
          "model_name": "DescriptionStyleModel",
          "model_module_version": "1.5.0",
          "state": {
            "_model_module": "@jupyter-widgets/controls",
            "_model_module_version": "1.5.0",
            "_model_name": "DescriptionStyleModel",
            "_view_count": null,
            "_view_module": "@jupyter-widgets/base",
            "_view_module_version": "1.2.0",
            "_view_name": "StyleView",
            "description_width": ""
          }
        },
        "9e29b3c0ef0744bd92865a4c78d76888": {
          "model_module": "@jupyter-widgets/controls",
          "model_name": "LabelModel",
          "model_module_version": "1.5.0",
          "state": {
            "_dom_classes": [],
            "_model_module": "@jupyter-widgets/controls",
            "_model_module_version": "1.5.0",
            "_model_name": "LabelModel",
            "_view_count": null,
            "_view_module": "@jupyter-widgets/controls",
            "_view_module_version": "1.5.0",
            "_view_name": "LabelView",
            "description": "",
            "description_tooltip": null,
            "layout": "IPY_MODEL_c923536545da4769bfbc9fed746b58f1",
            "placeholder": "​",
            "style": "IPY_MODEL_c231c1e8b77b4ef39406ceaba75a17cb",
            "value": "Connecting..."
          }
        },
        "c923536545da4769bfbc9fed746b58f1": {
          "model_module": "@jupyter-widgets/base",
          "model_name": "LayoutModel",
          "model_module_version": "1.2.0",
          "state": {
            "_model_module": "@jupyter-widgets/base",
            "_model_module_version": "1.2.0",
            "_model_name": "LayoutModel",
            "_view_count": null,
            "_view_module": "@jupyter-widgets/base",
            "_view_module_version": "1.2.0",
            "_view_name": "LayoutView",
            "align_content": null,
            "align_items": null,
            "align_self": null,
            "border": null,
            "bottom": null,
            "display": null,
            "flex": null,
            "flex_flow": null,
            "grid_area": null,
            "grid_auto_columns": null,
            "grid_auto_flow": null,
            "grid_auto_rows": null,
            "grid_column": null,
            "grid_gap": null,
            "grid_row": null,
            "grid_template_areas": null,
            "grid_template_columns": null,
            "grid_template_rows": null,
            "height": null,
            "justify_content": null,
            "justify_items": null,
            "left": null,
            "margin": null,
            "max_height": null,
            "max_width": null,
            "min_height": null,
            "min_width": null,
            "object_fit": null,
            "object_position": null,
            "order": null,
            "overflow": null,
            "overflow_x": null,
            "overflow_y": null,
            "padding": null,
            "right": null,
            "top": null,
            "visibility": null,
            "width": null
          }
        },
        "c231c1e8b77b4ef39406ceaba75a17cb": {
          "model_module": "@jupyter-widgets/controls",
          "model_name": "DescriptionStyleModel",
          "model_module_version": "1.5.0",
          "state": {
            "_model_module": "@jupyter-widgets/controls",
            "_model_module_version": "1.5.0",
            "_model_name": "DescriptionStyleModel",
            "_view_count": null,
            "_view_module": "@jupyter-widgets/base",
            "_view_module_version": "1.2.0",
            "_view_name": "StyleView",
            "description_width": ""
          }
        },
        "19da638ff98b44b89868b49dcefa8d27": {
          "model_module": "@jupyter-widgets/controls",
          "model_name": "LabelModel",
          "model_module_version": "1.5.0",
          "state": {
            "_dom_classes": [],
            "_model_module": "@jupyter-widgets/controls",
            "_model_module_version": "1.5.0",
            "_model_name": "LabelModel",
            "_view_count": null,
            "_view_module": "@jupyter-widgets/controls",
            "_view_module_version": "1.5.0",
            "_view_name": "LabelView",
            "description": "",
            "description_tooltip": null,
            "layout": "IPY_MODEL_548e4285230a4605b9b4f7c99ea276fb",
            "placeholder": "​",
            "style": "IPY_MODEL_2775b6799c8f4a6cbb581c159fff997b",
            "value": "Token is valid (permission: fineGrained)."
          }
        },
        "a3c22d1933b943b7b9074d43bb1d3d36": {
          "model_module": "@jupyter-widgets/controls",
          "model_name": "LabelModel",
          "model_module_version": "1.5.0",
          "state": {
            "_dom_classes": [],
            "_model_module": "@jupyter-widgets/controls",
            "_model_module_version": "1.5.0",
            "_model_name": "LabelModel",
            "_view_count": null,
            "_view_module": "@jupyter-widgets/controls",
            "_view_module_version": "1.5.0",
            "_view_name": "LabelView",
            "description": "",
            "description_tooltip": null,
            "layout": "IPY_MODEL_15a09388d451456f97f2efa2e7f26c7e",
            "placeholder": "​",
            "style": "IPY_MODEL_ad6a3d34bfec489e81615ab8656fd9ae",
            "value": "Your token has been saved in your configured git credential helpers (store)."
          }
        },
        "c675ef370f4a498090af8450921ca4e2": {
          "model_module": "@jupyter-widgets/controls",
          "model_name": "LabelModel",
          "model_module_version": "1.5.0",
          "state": {
            "_dom_classes": [],
            "_model_module": "@jupyter-widgets/controls",
            "_model_module_version": "1.5.0",
            "_model_name": "LabelModel",
            "_view_count": null,
            "_view_module": "@jupyter-widgets/controls",
            "_view_module_version": "1.5.0",
            "_view_name": "LabelView",
            "description": "",
            "description_tooltip": null,
            "layout": "IPY_MODEL_c2b8fcb2944d4c198bf51d381144d30e",
            "placeholder": "​",
            "style": "IPY_MODEL_9737179e1bc94675be59b12477f06ae2",
            "value": "Your token has been saved to /root/.cache/huggingface/token"
          }
        },
        "acd442bd5a6d4e288d6fa38f48cbe0f1": {
          "model_module": "@jupyter-widgets/controls",
          "model_name": "LabelModel",
          "model_module_version": "1.5.0",
          "state": {
            "_dom_classes": [],
            "_model_module": "@jupyter-widgets/controls",
            "_model_module_version": "1.5.0",
            "_model_name": "LabelModel",
            "_view_count": null,
            "_view_module": "@jupyter-widgets/controls",
            "_view_module_version": "1.5.0",
            "_view_name": "LabelView",
            "description": "",
            "description_tooltip": null,
            "layout": "IPY_MODEL_51b5eb7508d64ff39fb23c861c1ca7d3",
            "placeholder": "​",
            "style": "IPY_MODEL_b7c3a371e9224418ba7d890b793b3e06",
            "value": "Login successful"
          }
        },
        "548e4285230a4605b9b4f7c99ea276fb": {
          "model_module": "@jupyter-widgets/base",
          "model_name": "LayoutModel",
          "model_module_version": "1.2.0",
          "state": {
            "_model_module": "@jupyter-widgets/base",
            "_model_module_version": "1.2.0",
            "_model_name": "LayoutModel",
            "_view_count": null,
            "_view_module": "@jupyter-widgets/base",
            "_view_module_version": "1.2.0",
            "_view_name": "LayoutView",
            "align_content": null,
            "align_items": null,
            "align_self": null,
            "border": null,
            "bottom": null,
            "display": null,
            "flex": null,
            "flex_flow": null,
            "grid_area": null,
            "grid_auto_columns": null,
            "grid_auto_flow": null,
            "grid_auto_rows": null,
            "grid_column": null,
            "grid_gap": null,
            "grid_row": null,
            "grid_template_areas": null,
            "grid_template_columns": null,
            "grid_template_rows": null,
            "height": null,
            "justify_content": null,
            "justify_items": null,
            "left": null,
            "margin": null,
            "max_height": null,
            "max_width": null,
            "min_height": null,
            "min_width": null,
            "object_fit": null,
            "object_position": null,
            "order": null,
            "overflow": null,
            "overflow_x": null,
            "overflow_y": null,
            "padding": null,
            "right": null,
            "top": null,
            "visibility": null,
            "width": null
          }
        },
        "2775b6799c8f4a6cbb581c159fff997b": {
          "model_module": "@jupyter-widgets/controls",
          "model_name": "DescriptionStyleModel",
          "model_module_version": "1.5.0",
          "state": {
            "_model_module": "@jupyter-widgets/controls",
            "_model_module_version": "1.5.0",
            "_model_name": "DescriptionStyleModel",
            "_view_count": null,
            "_view_module": "@jupyter-widgets/base",
            "_view_module_version": "1.2.0",
            "_view_name": "StyleView",
            "description_width": ""
          }
        },
        "15a09388d451456f97f2efa2e7f26c7e": {
          "model_module": "@jupyter-widgets/base",
          "model_name": "LayoutModel",
          "model_module_version": "1.2.0",
          "state": {
            "_model_module": "@jupyter-widgets/base",
            "_model_module_version": "1.2.0",
            "_model_name": "LayoutModel",
            "_view_count": null,
            "_view_module": "@jupyter-widgets/base",
            "_view_module_version": "1.2.0",
            "_view_name": "LayoutView",
            "align_content": null,
            "align_items": null,
            "align_self": null,
            "border": null,
            "bottom": null,
            "display": null,
            "flex": null,
            "flex_flow": null,
            "grid_area": null,
            "grid_auto_columns": null,
            "grid_auto_flow": null,
            "grid_auto_rows": null,
            "grid_column": null,
            "grid_gap": null,
            "grid_row": null,
            "grid_template_areas": null,
            "grid_template_columns": null,
            "grid_template_rows": null,
            "height": null,
            "justify_content": null,
            "justify_items": null,
            "left": null,
            "margin": null,
            "max_height": null,
            "max_width": null,
            "min_height": null,
            "min_width": null,
            "object_fit": null,
            "object_position": null,
            "order": null,
            "overflow": null,
            "overflow_x": null,
            "overflow_y": null,
            "padding": null,
            "right": null,
            "top": null,
            "visibility": null,
            "width": null
          }
        },
        "ad6a3d34bfec489e81615ab8656fd9ae": {
          "model_module": "@jupyter-widgets/controls",
          "model_name": "DescriptionStyleModel",
          "model_module_version": "1.5.0",
          "state": {
            "_model_module": "@jupyter-widgets/controls",
            "_model_module_version": "1.5.0",
            "_model_name": "DescriptionStyleModel",
            "_view_count": null,
            "_view_module": "@jupyter-widgets/base",
            "_view_module_version": "1.2.0",
            "_view_name": "StyleView",
            "description_width": ""
          }
        },
        "c2b8fcb2944d4c198bf51d381144d30e": {
          "model_module": "@jupyter-widgets/base",
          "model_name": "LayoutModel",
          "model_module_version": "1.2.0",
          "state": {
            "_model_module": "@jupyter-widgets/base",
            "_model_module_version": "1.2.0",
            "_model_name": "LayoutModel",
            "_view_count": null,
            "_view_module": "@jupyter-widgets/base",
            "_view_module_version": "1.2.0",
            "_view_name": "LayoutView",
            "align_content": null,
            "align_items": null,
            "align_self": null,
            "border": null,
            "bottom": null,
            "display": null,
            "flex": null,
            "flex_flow": null,
            "grid_area": null,
            "grid_auto_columns": null,
            "grid_auto_flow": null,
            "grid_auto_rows": null,
            "grid_column": null,
            "grid_gap": null,
            "grid_row": null,
            "grid_template_areas": null,
            "grid_template_columns": null,
            "grid_template_rows": null,
            "height": null,
            "justify_content": null,
            "justify_items": null,
            "left": null,
            "margin": null,
            "max_height": null,
            "max_width": null,
            "min_height": null,
            "min_width": null,
            "object_fit": null,
            "object_position": null,
            "order": null,
            "overflow": null,
            "overflow_x": null,
            "overflow_y": null,
            "padding": null,
            "right": null,
            "top": null,
            "visibility": null,
            "width": null
          }
        },
        "9737179e1bc94675be59b12477f06ae2": {
          "model_module": "@jupyter-widgets/controls",
          "model_name": "DescriptionStyleModel",
          "model_module_version": "1.5.0",
          "state": {
            "_model_module": "@jupyter-widgets/controls",
            "_model_module_version": "1.5.0",
            "_model_name": "DescriptionStyleModel",
            "_view_count": null,
            "_view_module": "@jupyter-widgets/base",
            "_view_module_version": "1.2.0",
            "_view_name": "StyleView",
            "description_width": ""
          }
        },
        "51b5eb7508d64ff39fb23c861c1ca7d3": {
          "model_module": "@jupyter-widgets/base",
          "model_name": "LayoutModel",
          "model_module_version": "1.2.0",
          "state": {
            "_model_module": "@jupyter-widgets/base",
            "_model_module_version": "1.2.0",
            "_model_name": "LayoutModel",
            "_view_count": null,
            "_view_module": "@jupyter-widgets/base",
            "_view_module_version": "1.2.0",
            "_view_name": "LayoutView",
            "align_content": null,
            "align_items": null,
            "align_self": null,
            "border": null,
            "bottom": null,
            "display": null,
            "flex": null,
            "flex_flow": null,
            "grid_area": null,
            "grid_auto_columns": null,
            "grid_auto_flow": null,
            "grid_auto_rows": null,
            "grid_column": null,
            "grid_gap": null,
            "grid_row": null,
            "grid_template_areas": null,
            "grid_template_columns": null,
            "grid_template_rows": null,
            "height": null,
            "justify_content": null,
            "justify_items": null,
            "left": null,
            "margin": null,
            "max_height": null,
            "max_width": null,
            "min_height": null,
            "min_width": null,
            "object_fit": null,
            "object_position": null,
            "order": null,
            "overflow": null,
            "overflow_x": null,
            "overflow_y": null,
            "padding": null,
            "right": null,
            "top": null,
            "visibility": null,
            "width": null
          }
        },
        "b7c3a371e9224418ba7d890b793b3e06": {
          "model_module": "@jupyter-widgets/controls",
          "model_name": "DescriptionStyleModel",
          "model_module_version": "1.5.0",
          "state": {
            "_model_module": "@jupyter-widgets/controls",
            "_model_module_version": "1.5.0",
            "_model_name": "DescriptionStyleModel",
            "_view_count": null,
            "_view_module": "@jupyter-widgets/base",
            "_view_module_version": "1.2.0",
            "_view_name": "StyleView",
            "description_width": ""
          }
        },
        "01ee776ff8584f6d9d20c9e972d6cccd": {
          "model_module": "@jupyter-widgets/controls",
          "model_name": "HBoxModel",
          "model_module_version": "1.5.0",
          "state": {
            "_dom_classes": [],
            "_model_module": "@jupyter-widgets/controls",
            "_model_module_version": "1.5.0",
            "_model_name": "HBoxModel",
            "_view_count": null,
            "_view_module": "@jupyter-widgets/controls",
            "_view_module_version": "1.5.0",
            "_view_name": "HBoxView",
            "box_style": "",
            "children": [
              "IPY_MODEL_ca72de9768c4489d9030d1a27df5d670",
              "IPY_MODEL_5852efbb35794d98b8bc20c2055973aa",
              "IPY_MODEL_b5db2ef4d8434f23aba2fc3e9b507dc2"
            ],
            "layout": "IPY_MODEL_c441949c2ea6435cb83a0fc2f63dbb88"
          }
        },
        "ca72de9768c4489d9030d1a27df5d670": {
          "model_module": "@jupyter-widgets/controls",
          "model_name": "HTMLModel",
          "model_module_version": "1.5.0",
          "state": {
            "_dom_classes": [],
            "_model_module": "@jupyter-widgets/controls",
            "_model_module_version": "1.5.0",
            "_model_name": "HTMLModel",
            "_view_count": null,
            "_view_module": "@jupyter-widgets/controls",
            "_view_module_version": "1.5.0",
            "_view_name": "HTMLView",
            "description": "",
            "description_tooltip": null,
            "layout": "IPY_MODEL_c468f8377c1f4dc5805801fd6013791d",
            "placeholder": "​",
            "style": "IPY_MODEL_da4f9863f7ba4b53bbcdbf1f13ef45ad",
            "value": "Loading checkpoint shards: 100%"
          }
        },
        "5852efbb35794d98b8bc20c2055973aa": {
          "model_module": "@jupyter-widgets/controls",
          "model_name": "FloatProgressModel",
          "model_module_version": "1.5.0",
          "state": {
            "_dom_classes": [],
            "_model_module": "@jupyter-widgets/controls",
            "_model_module_version": "1.5.0",
            "_model_name": "FloatProgressModel",
            "_view_count": null,
            "_view_module": "@jupyter-widgets/controls",
            "_view_module_version": "1.5.0",
            "_view_name": "ProgressView",
            "bar_style": "success",
            "description": "",
            "description_tooltip": null,
            "layout": "IPY_MODEL_9325773ea2224138905572437dbd518f",
            "max": 2,
            "min": 0,
            "orientation": "horizontal",
            "style": "IPY_MODEL_5940f55d5a8544c5abab2e401286d55b",
            "value": 2
          }
        },
        "b5db2ef4d8434f23aba2fc3e9b507dc2": {
          "model_module": "@jupyter-widgets/controls",
          "model_name": "HTMLModel",
          "model_module_version": "1.5.0",
          "state": {
            "_dom_classes": [],
            "_model_module": "@jupyter-widgets/controls",
            "_model_module_version": "1.5.0",
            "_model_name": "HTMLModel",
            "_view_count": null,
            "_view_module": "@jupyter-widgets/controls",
            "_view_module_version": "1.5.0",
            "_view_name": "HTMLView",
            "description": "",
            "description_tooltip": null,
            "layout": "IPY_MODEL_5c1c75eb979942d095af6fa24de1fe5f",
            "placeholder": "​",
            "style": "IPY_MODEL_0c0f4066547340c289abb5ff66d7916a",
            "value": " 2/2 [00:33&lt;00:00, 16.13s/it]"
          }
        },
        "c441949c2ea6435cb83a0fc2f63dbb88": {
          "model_module": "@jupyter-widgets/base",
          "model_name": "LayoutModel",
          "model_module_version": "1.2.0",
          "state": {
            "_model_module": "@jupyter-widgets/base",
            "_model_module_version": "1.2.0",
            "_model_name": "LayoutModel",
            "_view_count": null,
            "_view_module": "@jupyter-widgets/base",
            "_view_module_version": "1.2.0",
            "_view_name": "LayoutView",
            "align_content": null,
            "align_items": null,
            "align_self": null,
            "border": null,
            "bottom": null,
            "display": null,
            "flex": null,
            "flex_flow": null,
            "grid_area": null,
            "grid_auto_columns": null,
            "grid_auto_flow": null,
            "grid_auto_rows": null,
            "grid_column": null,
            "grid_gap": null,
            "grid_row": null,
            "grid_template_areas": null,
            "grid_template_columns": null,
            "grid_template_rows": null,
            "height": null,
            "justify_content": null,
            "justify_items": null,
            "left": null,
            "margin": null,
            "max_height": null,
            "max_width": null,
            "min_height": null,
            "min_width": null,
            "object_fit": null,
            "object_position": null,
            "order": null,
            "overflow": null,
            "overflow_x": null,
            "overflow_y": null,
            "padding": null,
            "right": null,
            "top": null,
            "visibility": null,
            "width": null
          }
        },
        "c468f8377c1f4dc5805801fd6013791d": {
          "model_module": "@jupyter-widgets/base",
          "model_name": "LayoutModel",
          "model_module_version": "1.2.0",
          "state": {
            "_model_module": "@jupyter-widgets/base",
            "_model_module_version": "1.2.0",
            "_model_name": "LayoutModel",
            "_view_count": null,
            "_view_module": "@jupyter-widgets/base",
            "_view_module_version": "1.2.0",
            "_view_name": "LayoutView",
            "align_content": null,
            "align_items": null,
            "align_self": null,
            "border": null,
            "bottom": null,
            "display": null,
            "flex": null,
            "flex_flow": null,
            "grid_area": null,
            "grid_auto_columns": null,
            "grid_auto_flow": null,
            "grid_auto_rows": null,
            "grid_column": null,
            "grid_gap": null,
            "grid_row": null,
            "grid_template_areas": null,
            "grid_template_columns": null,
            "grid_template_rows": null,
            "height": null,
            "justify_content": null,
            "justify_items": null,
            "left": null,
            "margin": null,
            "max_height": null,
            "max_width": null,
            "min_height": null,
            "min_width": null,
            "object_fit": null,
            "object_position": null,
            "order": null,
            "overflow": null,
            "overflow_x": null,
            "overflow_y": null,
            "padding": null,
            "right": null,
            "top": null,
            "visibility": null,
            "width": null
          }
        },
        "da4f9863f7ba4b53bbcdbf1f13ef45ad": {
          "model_module": "@jupyter-widgets/controls",
          "model_name": "DescriptionStyleModel",
          "model_module_version": "1.5.0",
          "state": {
            "_model_module": "@jupyter-widgets/controls",
            "_model_module_version": "1.5.0",
            "_model_name": "DescriptionStyleModel",
            "_view_count": null,
            "_view_module": "@jupyter-widgets/base",
            "_view_module_version": "1.2.0",
            "_view_name": "StyleView",
            "description_width": ""
          }
        },
        "9325773ea2224138905572437dbd518f": {
          "model_module": "@jupyter-widgets/base",
          "model_name": "LayoutModel",
          "model_module_version": "1.2.0",
          "state": {
            "_model_module": "@jupyter-widgets/base",
            "_model_module_version": "1.2.0",
            "_model_name": "LayoutModel",
            "_view_count": null,
            "_view_module": "@jupyter-widgets/base",
            "_view_module_version": "1.2.0",
            "_view_name": "LayoutView",
            "align_content": null,
            "align_items": null,
            "align_self": null,
            "border": null,
            "bottom": null,
            "display": null,
            "flex": null,
            "flex_flow": null,
            "grid_area": null,
            "grid_auto_columns": null,
            "grid_auto_flow": null,
            "grid_auto_rows": null,
            "grid_column": null,
            "grid_gap": null,
            "grid_row": null,
            "grid_template_areas": null,
            "grid_template_columns": null,
            "grid_template_rows": null,
            "height": null,
            "justify_content": null,
            "justify_items": null,
            "left": null,
            "margin": null,
            "max_height": null,
            "max_width": null,
            "min_height": null,
            "min_width": null,
            "object_fit": null,
            "object_position": null,
            "order": null,
            "overflow": null,
            "overflow_x": null,
            "overflow_y": null,
            "padding": null,
            "right": null,
            "top": null,
            "visibility": null,
            "width": null
          }
        },
        "5940f55d5a8544c5abab2e401286d55b": {
          "model_module": "@jupyter-widgets/controls",
          "model_name": "ProgressStyleModel",
          "model_module_version": "1.5.0",
          "state": {
            "_model_module": "@jupyter-widgets/controls",
            "_model_module_version": "1.5.0",
            "_model_name": "ProgressStyleModel",
            "_view_count": null,
            "_view_module": "@jupyter-widgets/base",
            "_view_module_version": "1.2.0",
            "_view_name": "StyleView",
            "bar_color": null,
            "description_width": ""
          }
        },
        "5c1c75eb979942d095af6fa24de1fe5f": {
          "model_module": "@jupyter-widgets/base",
          "model_name": "LayoutModel",
          "model_module_version": "1.2.0",
          "state": {
            "_model_module": "@jupyter-widgets/base",
            "_model_module_version": "1.2.0",
            "_model_name": "LayoutModel",
            "_view_count": null,
            "_view_module": "@jupyter-widgets/base",
            "_view_module_version": "1.2.0",
            "_view_name": "LayoutView",
            "align_content": null,
            "align_items": null,
            "align_self": null,
            "border": null,
            "bottom": null,
            "display": null,
            "flex": null,
            "flex_flow": null,
            "grid_area": null,
            "grid_auto_columns": null,
            "grid_auto_flow": null,
            "grid_auto_rows": null,
            "grid_column": null,
            "grid_gap": null,
            "grid_row": null,
            "grid_template_areas": null,
            "grid_template_columns": null,
            "grid_template_rows": null,
            "height": null,
            "justify_content": null,
            "justify_items": null,
            "left": null,
            "margin": null,
            "max_height": null,
            "max_width": null,
            "min_height": null,
            "min_width": null,
            "object_fit": null,
            "object_position": null,
            "order": null,
            "overflow": null,
            "overflow_x": null,
            "overflow_y": null,
            "padding": null,
            "right": null,
            "top": null,
            "visibility": null,
            "width": null
          }
        },
        "0c0f4066547340c289abb5ff66d7916a": {
          "model_module": "@jupyter-widgets/controls",
          "model_name": "DescriptionStyleModel",
          "model_module_version": "1.5.0",
          "state": {
            "_model_module": "@jupyter-widgets/controls",
            "_model_module_version": "1.5.0",
            "_model_name": "DescriptionStyleModel",
            "_view_count": null,
            "_view_module": "@jupyter-widgets/base",
            "_view_module_version": "1.2.0",
            "_view_name": "StyleView",
            "description_width": ""
          }
        }
      }
    }
  },
  "cells": [
    {
      "cell_type": "markdown",
      "metadata": {
        "id": "view-in-github",
        "colab_type": "text"
      },
      "source": [
        "<a href=\"https://colab.research.google.com/github/PrayagPanta/ComprehensiveNoteTakerApp/blob/master/RAG_Workshop.ipynb\" target=\"_parent\"><img src=\"https://colab.research.google.com/assets/colab-badge.svg\" alt=\"Open In Colab\"/></a>"
      ]
    },
    {
      "cell_type": "markdown",
      "source": [
        "**1) Change Type of Runtime to use GPU.**"
      ],
      "metadata": {
        "id": "eqGXk8d7BGgM"
      }
    },
    {
      "cell_type": "markdown",
      "source": [
        "**RAG Workflow**"
      ],
      "metadata": {
        "id": "5a2A6f2QDHvg"
      }
    },
    {
      "cell_type": "markdown",
      "source": [
        "![RAG.png](data:image/png;base64,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)"
      ],
      "metadata": {
        "id": "BfDOoIdnCpOe"
      }
    },
    {
      "cell_type": "markdown",
      "source": [
        "**Install Required Dependencies:**"
      ],
      "metadata": {
        "id": "olq4d0iuBP8i"
      }
    },
    {
      "cell_type": "code",
      "source": [
        "!pip install -i https://pypi.org/simple/ bitsandbytes==0.43.1\n",
        "!pip install accelerate==0.32.1\n",
        "!pip install transformers==4.42.3\n",
        "!pip install torch==2.3.1\n",
        "!pip install langchain==0.2.6\n",
        "!pip install huggingface_hub==0.23.4\n",
        "!pip install langchain_huggingface==0.0.3"
      ],
      "metadata": {
        "colab": {
          "base_uri": "https://localhost:8080/"
        },
        "id": "Z8u2bvhIBYgK",
        "outputId": "4fc48b17-e4d0-4a45-dded-324402957975"
      },
      "execution_count": 1,
      "outputs": [
        {
          "output_type": "stream",
          "name": "stdout",
          "text": [
            "Looking in indexes: https://pypi.org/simple/\n",
            "Collecting bitsandbytes==0.43.1\n",
            "  Downloading bitsandbytes-0.43.1-py3-none-manylinux_2_24_x86_64.whl (119.8 MB)\n",
            "\u001b[2K     \u001b[90m━━━━━━━━━━━━━━━━━━━━━━━━━━━━━━━━━━━━━━━━\u001b[0m \u001b[32m119.8/119.8 MB\u001b[0m \u001b[31m2.8 MB/s\u001b[0m eta \u001b[36m0:00:00\u001b[0m\n",
            "\u001b[?25hRequirement already satisfied: torch in /usr/local/lib/python3.10/dist-packages (from bitsandbytes==0.43.1) (2.3.1)\n",
            "Requirement already satisfied: numpy in /usr/local/lib/python3.10/dist-packages (from bitsandbytes==0.43.1) (1.25.2)\n",
            "Requirement already satisfied: filelock in /usr/local/lib/python3.10/dist-packages (from torch->bitsandbytes==0.43.1) (3.15.4)\n",
            "Requirement already satisfied: typing-extensions>=4.8.0 in /usr/local/lib/python3.10/dist-packages (from torch->bitsandbytes==0.43.1) (4.12.2)\n",
            "Requirement already satisfied: sympy in /usr/local/lib/python3.10/dist-packages (from torch->bitsandbytes==0.43.1) (1.13.0)\n",
            "Requirement already satisfied: networkx in /usr/local/lib/python3.10/dist-packages (from torch->bitsandbytes==0.43.1) (3.3)\n",
            "Requirement already satisfied: jinja2 in /usr/local/lib/python3.10/dist-packages (from torch->bitsandbytes==0.43.1) (3.1.4)\n",
            "Requirement already satisfied: fsspec in /usr/local/lib/python3.10/dist-packages (from torch->bitsandbytes==0.43.1) (2023.6.0)\n",
            "Requirement already satisfied: nvidia-cuda-nvrtc-cu12==12.1.105 in /usr/local/lib/python3.10/dist-packages (from torch->bitsandbytes==0.43.1) (12.1.105)\n",
            "Requirement already satisfied: nvidia-cuda-runtime-cu12==12.1.105 in /usr/local/lib/python3.10/dist-packages (from torch->bitsandbytes==0.43.1) (12.1.105)\n",
            "Requirement already satisfied: nvidia-cuda-cupti-cu12==12.1.105 in /usr/local/lib/python3.10/dist-packages (from torch->bitsandbytes==0.43.1) (12.1.105)\n",
            "Requirement already satisfied: nvidia-cudnn-cu12==8.9.2.26 in /usr/local/lib/python3.10/dist-packages (from torch->bitsandbytes==0.43.1) (8.9.2.26)\n",
            "Requirement already satisfied: nvidia-cublas-cu12==12.1.3.1 in /usr/local/lib/python3.10/dist-packages (from torch->bitsandbytes==0.43.1) (12.1.3.1)\n",
            "Requirement already satisfied: nvidia-cufft-cu12==11.0.2.54 in /usr/local/lib/python3.10/dist-packages (from torch->bitsandbytes==0.43.1) (11.0.2.54)\n",
            "Requirement already satisfied: nvidia-curand-cu12==10.3.2.106 in /usr/local/lib/python3.10/dist-packages (from torch->bitsandbytes==0.43.1) (10.3.2.106)\n",
            "Requirement already satisfied: nvidia-cusolver-cu12==11.4.5.107 in /usr/local/lib/python3.10/dist-packages (from torch->bitsandbytes==0.43.1) (11.4.5.107)\n",
            "Requirement already satisfied: nvidia-cusparse-cu12==12.1.0.106 in /usr/local/lib/python3.10/dist-packages (from torch->bitsandbytes==0.43.1) (12.1.0.106)\n",
            "Requirement already satisfied: nvidia-nccl-cu12==2.20.5 in /usr/local/lib/python3.10/dist-packages (from torch->bitsandbytes==0.43.1) (2.20.5)\n",
            "Requirement already satisfied: nvidia-nvtx-cu12==12.1.105 in /usr/local/lib/python3.10/dist-packages (from torch->bitsandbytes==0.43.1) (12.1.105)\n",
            "Requirement already satisfied: triton==2.3.1 in /usr/local/lib/python3.10/dist-packages (from torch->bitsandbytes==0.43.1) (2.3.1)\n",
            "Requirement already satisfied: nvidia-nvjitlink-cu12 in /usr/local/lib/python3.10/dist-packages (from nvidia-cusolver-cu12==11.4.5.107->torch->bitsandbytes==0.43.1) (12.5.82)\n",
            "Requirement already satisfied: MarkupSafe>=2.0 in /usr/local/lib/python3.10/dist-packages (from jinja2->torch->bitsandbytes==0.43.1) (2.1.5)\n",
            "Requirement already satisfied: mpmath<1.4,>=1.1.0 in /usr/local/lib/python3.10/dist-packages (from sympy->torch->bitsandbytes==0.43.1) (1.3.0)\n",
            "Installing collected packages: bitsandbytes\n",
            "Successfully installed bitsandbytes-0.43.1\n",
            "Requirement already satisfied: accelerate==0.32.1 in /usr/local/lib/python3.10/dist-packages (0.32.1)\n",
            "Requirement already satisfied: numpy<2.0.0,>=1.17 in /usr/local/lib/python3.10/dist-packages (from accelerate==0.32.1) (1.25.2)\n",
            "Requirement already satisfied: packaging>=20.0 in /usr/local/lib/python3.10/dist-packages (from accelerate==0.32.1) (24.1)\n",
            "Requirement already satisfied: psutil in /usr/local/lib/python3.10/dist-packages (from accelerate==0.32.1) (5.9.5)\n",
            "Requirement already satisfied: pyyaml in /usr/local/lib/python3.10/dist-packages (from accelerate==0.32.1) (6.0.1)\n",
            "Requirement already satisfied: torch>=1.10.0 in /usr/local/lib/python3.10/dist-packages (from accelerate==0.32.1) (2.3.1)\n",
            "Requirement already satisfied: huggingface-hub in /usr/local/lib/python3.10/dist-packages (from accelerate==0.32.1) (0.23.4)\n",
            "Requirement already satisfied: safetensors>=0.3.1 in /usr/local/lib/python3.10/dist-packages (from accelerate==0.32.1) (0.4.3)\n",
            "Requirement already satisfied: filelock in /usr/local/lib/python3.10/dist-packages (from torch>=1.10.0->accelerate==0.32.1) (3.15.4)\n",
            "Requirement already satisfied: typing-extensions>=4.8.0 in /usr/local/lib/python3.10/dist-packages (from torch>=1.10.0->accelerate==0.32.1) (4.12.2)\n",
            "Requirement already satisfied: sympy in /usr/local/lib/python3.10/dist-packages (from torch>=1.10.0->accelerate==0.32.1) (1.13.0)\n",
            "Requirement already satisfied: networkx in /usr/local/lib/python3.10/dist-packages (from torch>=1.10.0->accelerate==0.32.1) (3.3)\n",
            "Requirement already satisfied: jinja2 in /usr/local/lib/python3.10/dist-packages (from torch>=1.10.0->accelerate==0.32.1) (3.1.4)\n",
            "Requirement already satisfied: fsspec in /usr/local/lib/python3.10/dist-packages (from torch>=1.10.0->accelerate==0.32.1) (2023.6.0)\n",
            "Requirement already satisfied: nvidia-cuda-nvrtc-cu12==12.1.105 in /usr/local/lib/python3.10/dist-packages (from torch>=1.10.0->accelerate==0.32.1) (12.1.105)\n",
            "Requirement already satisfied: nvidia-cuda-runtime-cu12==12.1.105 in /usr/local/lib/python3.10/dist-packages (from torch>=1.10.0->accelerate==0.32.1) (12.1.105)\n",
            "Requirement already satisfied: nvidia-cuda-cupti-cu12==12.1.105 in /usr/local/lib/python3.10/dist-packages (from torch>=1.10.0->accelerate==0.32.1) (12.1.105)\n",
            "Requirement already satisfied: nvidia-cudnn-cu12==8.9.2.26 in /usr/local/lib/python3.10/dist-packages (from torch>=1.10.0->accelerate==0.32.1) (8.9.2.26)\n",
            "Requirement already satisfied: nvidia-cublas-cu12==12.1.3.1 in /usr/local/lib/python3.10/dist-packages (from torch>=1.10.0->accelerate==0.32.1) (12.1.3.1)\n",
            "Requirement already satisfied: nvidia-cufft-cu12==11.0.2.54 in /usr/local/lib/python3.10/dist-packages (from torch>=1.10.0->accelerate==0.32.1) (11.0.2.54)\n",
            "Requirement already satisfied: nvidia-curand-cu12==10.3.2.106 in /usr/local/lib/python3.10/dist-packages (from torch>=1.10.0->accelerate==0.32.1) (10.3.2.106)\n",
            "Requirement already satisfied: nvidia-cusolver-cu12==11.4.5.107 in /usr/local/lib/python3.10/dist-packages (from torch>=1.10.0->accelerate==0.32.1) (11.4.5.107)\n",
            "Requirement already satisfied: nvidia-cusparse-cu12==12.1.0.106 in /usr/local/lib/python3.10/dist-packages (from torch>=1.10.0->accelerate==0.32.1) (12.1.0.106)\n",
            "Requirement already satisfied: nvidia-nccl-cu12==2.20.5 in /usr/local/lib/python3.10/dist-packages (from torch>=1.10.0->accelerate==0.32.1) (2.20.5)\n",
            "Requirement already satisfied: nvidia-nvtx-cu12==12.1.105 in /usr/local/lib/python3.10/dist-packages (from torch>=1.10.0->accelerate==0.32.1) (12.1.105)\n",
            "Requirement already satisfied: triton==2.3.1 in /usr/local/lib/python3.10/dist-packages (from torch>=1.10.0->accelerate==0.32.1) (2.3.1)\n",
            "Requirement already satisfied: nvidia-nvjitlink-cu12 in /usr/local/lib/python3.10/dist-packages (from nvidia-cusolver-cu12==11.4.5.107->torch>=1.10.0->accelerate==0.32.1) (12.5.82)\n",
            "Requirement already satisfied: requests in /usr/local/lib/python3.10/dist-packages (from huggingface-hub->accelerate==0.32.1) (2.31.0)\n",
            "Requirement already satisfied: tqdm>=4.42.1 in /usr/local/lib/python3.10/dist-packages (from huggingface-hub->accelerate==0.32.1) (4.66.4)\n",
            "Requirement already satisfied: MarkupSafe>=2.0 in /usr/local/lib/python3.10/dist-packages (from jinja2->torch>=1.10.0->accelerate==0.32.1) (2.1.5)\n",
            "Requirement already satisfied: charset-normalizer<4,>=2 in /usr/local/lib/python3.10/dist-packages (from requests->huggingface-hub->accelerate==0.32.1) (3.3.2)\n",
            "Requirement already satisfied: idna<4,>=2.5 in /usr/local/lib/python3.10/dist-packages (from requests->huggingface-hub->accelerate==0.32.1) (3.7)\n",
            "Requirement already satisfied: urllib3<3,>=1.21.1 in /usr/local/lib/python3.10/dist-packages (from requests->huggingface-hub->accelerate==0.32.1) (2.0.7)\n",
            "Requirement already satisfied: certifi>=2017.4.17 in /usr/local/lib/python3.10/dist-packages (from requests->huggingface-hub->accelerate==0.32.1) (2024.7.4)\n",
            "Requirement already satisfied: mpmath<1.4,>=1.1.0 in /usr/local/lib/python3.10/dist-packages (from sympy->torch>=1.10.0->accelerate==0.32.1) (1.3.0)\n",
            "Requirement already satisfied: transformers==4.42.3 in /usr/local/lib/python3.10/dist-packages (4.42.3)\n",
            "Requirement already satisfied: filelock in /usr/local/lib/python3.10/dist-packages (from transformers==4.42.3) (3.15.4)\n",
            "Requirement already satisfied: huggingface-hub<1.0,>=0.23.2 in /usr/local/lib/python3.10/dist-packages (from transformers==4.42.3) (0.23.4)\n",
            "Requirement already satisfied: numpy<2.0,>=1.17 in /usr/local/lib/python3.10/dist-packages (from transformers==4.42.3) (1.25.2)\n",
            "Requirement already satisfied: packaging>=20.0 in /usr/local/lib/python3.10/dist-packages (from transformers==4.42.3) (24.1)\n",
            "Requirement already satisfied: pyyaml>=5.1 in /usr/local/lib/python3.10/dist-packages (from transformers==4.42.3) (6.0.1)\n",
            "Requirement already satisfied: regex!=2019.12.17 in /usr/local/lib/python3.10/dist-packages (from transformers==4.42.3) (2024.5.15)\n",
            "Requirement already satisfied: requests in /usr/local/lib/python3.10/dist-packages (from transformers==4.42.3) (2.31.0)\n",
            "Requirement already satisfied: safetensors>=0.4.1 in /usr/local/lib/python3.10/dist-packages (from transformers==4.42.3) (0.4.3)\n",
            "Requirement already satisfied: tokenizers<0.20,>=0.19 in /usr/local/lib/python3.10/dist-packages (from transformers==4.42.3) (0.19.1)\n",
            "Requirement already satisfied: tqdm>=4.27 in /usr/local/lib/python3.10/dist-packages (from transformers==4.42.3) (4.66.4)\n",
            "Requirement already satisfied: fsspec>=2023.5.0 in /usr/local/lib/python3.10/dist-packages (from huggingface-hub<1.0,>=0.23.2->transformers==4.42.3) (2023.6.0)\n",
            "Requirement already satisfied: typing-extensions>=3.7.4.3 in /usr/local/lib/python3.10/dist-packages (from huggingface-hub<1.0,>=0.23.2->transformers==4.42.3) (4.12.2)\n",
            "Requirement already satisfied: charset-normalizer<4,>=2 in /usr/local/lib/python3.10/dist-packages (from requests->transformers==4.42.3) (3.3.2)\n",
            "Requirement already satisfied: idna<4,>=2.5 in /usr/local/lib/python3.10/dist-packages (from requests->transformers==4.42.3) (3.7)\n",
            "Requirement already satisfied: urllib3<3,>=1.21.1 in /usr/local/lib/python3.10/dist-packages (from requests->transformers==4.42.3) (2.0.7)\n",
            "Requirement already satisfied: certifi>=2017.4.17 in /usr/local/lib/python3.10/dist-packages (from requests->transformers==4.42.3) (2024.7.4)\n",
            "Requirement already satisfied: torch==2.3.1 in /usr/local/lib/python3.10/dist-packages (2.3.1)\n",
            "Requirement already satisfied: filelock in /usr/local/lib/python3.10/dist-packages (from torch==2.3.1) (3.15.4)\n",
            "Requirement already satisfied: typing-extensions>=4.8.0 in /usr/local/lib/python3.10/dist-packages (from torch==2.3.1) (4.12.2)\n",
            "Requirement already satisfied: sympy in /usr/local/lib/python3.10/dist-packages (from torch==2.3.1) (1.13.0)\n",
            "Requirement already satisfied: networkx in /usr/local/lib/python3.10/dist-packages (from torch==2.3.1) (3.3)\n",
            "Requirement already satisfied: jinja2 in /usr/local/lib/python3.10/dist-packages (from torch==2.3.1) (3.1.4)\n",
            "Requirement already satisfied: fsspec in /usr/local/lib/python3.10/dist-packages (from torch==2.3.1) (2023.6.0)\n",
            "Requirement already satisfied: nvidia-cuda-nvrtc-cu12==12.1.105 in /usr/local/lib/python3.10/dist-packages (from torch==2.3.1) (12.1.105)\n",
            "Requirement already satisfied: nvidia-cuda-runtime-cu12==12.1.105 in /usr/local/lib/python3.10/dist-packages (from torch==2.3.1) (12.1.105)\n",
            "Requirement already satisfied: nvidia-cuda-cupti-cu12==12.1.105 in /usr/local/lib/python3.10/dist-packages (from torch==2.3.1) (12.1.105)\n",
            "Requirement already satisfied: nvidia-cudnn-cu12==8.9.2.26 in /usr/local/lib/python3.10/dist-packages (from torch==2.3.1) (8.9.2.26)\n",
            "Requirement already satisfied: nvidia-cublas-cu12==12.1.3.1 in /usr/local/lib/python3.10/dist-packages (from torch==2.3.1) (12.1.3.1)\n",
            "Requirement already satisfied: nvidia-cufft-cu12==11.0.2.54 in /usr/local/lib/python3.10/dist-packages (from torch==2.3.1) (11.0.2.54)\n",
            "Requirement already satisfied: nvidia-curand-cu12==10.3.2.106 in /usr/local/lib/python3.10/dist-packages (from torch==2.3.1) (10.3.2.106)\n",
            "Requirement already satisfied: nvidia-cusolver-cu12==11.4.5.107 in /usr/local/lib/python3.10/dist-packages (from torch==2.3.1) (11.4.5.107)\n",
            "Requirement already satisfied: nvidia-cusparse-cu12==12.1.0.106 in /usr/local/lib/python3.10/dist-packages (from torch==2.3.1) (12.1.0.106)\n",
            "Requirement already satisfied: nvidia-nccl-cu12==2.20.5 in /usr/local/lib/python3.10/dist-packages (from torch==2.3.1) (2.20.5)\n",
            "Requirement already satisfied: nvidia-nvtx-cu12==12.1.105 in /usr/local/lib/python3.10/dist-packages (from torch==2.3.1) (12.1.105)\n",
            "Requirement already satisfied: triton==2.3.1 in /usr/local/lib/python3.10/dist-packages (from torch==2.3.1) (2.3.1)\n",
            "Requirement already satisfied: nvidia-nvjitlink-cu12 in /usr/local/lib/python3.10/dist-packages (from nvidia-cusolver-cu12==11.4.5.107->torch==2.3.1) (12.5.82)\n",
            "Requirement already satisfied: MarkupSafe>=2.0 in /usr/local/lib/python3.10/dist-packages (from jinja2->torch==2.3.1) (2.1.5)\n",
            "Requirement already satisfied: mpmath<1.4,>=1.1.0 in /usr/local/lib/python3.10/dist-packages (from sympy->torch==2.3.1) (1.3.0)\n",
            "Requirement already satisfied: langchain==0.2.6 in /usr/local/lib/python3.10/dist-packages (0.2.6)\n",
            "Requirement already satisfied: PyYAML>=5.3 in /usr/local/lib/python3.10/dist-packages (from langchain==0.2.6) (6.0.1)\n",
            "Requirement already satisfied: SQLAlchemy<3,>=1.4 in /usr/local/lib/python3.10/dist-packages (from langchain==0.2.6) (2.0.31)\n",
            "Requirement already satisfied: aiohttp<4.0.0,>=3.8.3 in /usr/local/lib/python3.10/dist-packages (from langchain==0.2.6) (3.9.5)\n",
            "Requirement already satisfied: async-timeout<5.0.0,>=4.0.0 in /usr/local/lib/python3.10/dist-packages (from langchain==0.2.6) (4.0.3)\n",
            "Requirement already satisfied: langchain-core<0.3.0,>=0.2.10 in /usr/local/lib/python3.10/dist-packages (from langchain==0.2.6) (0.2.20)\n",
            "Requirement already satisfied: langchain-text-splitters<0.3.0,>=0.2.0 in /usr/local/lib/python3.10/dist-packages (from langchain==0.2.6) (0.2.2)\n",
            "Requirement already satisfied: langsmith<0.2.0,>=0.1.17 in /usr/local/lib/python3.10/dist-packages (from langchain==0.2.6) (0.1.88)\n",
            "Requirement already satisfied: numpy<2,>=1 in /usr/local/lib/python3.10/dist-packages (from langchain==0.2.6) (1.25.2)\n",
            "Requirement already satisfied: pydantic<3,>=1 in /usr/local/lib/python3.10/dist-packages (from langchain==0.2.6) (2.8.2)\n",
            "Requirement already satisfied: requests<3,>=2 in /usr/local/lib/python3.10/dist-packages (from langchain==0.2.6) (2.31.0)\n",
            "Requirement already satisfied: tenacity!=8.4.0,<9.0.0,>=8.1.0 in /usr/local/lib/python3.10/dist-packages (from langchain==0.2.6) (8.5.0)\n",
            "Requirement already satisfied: aiosignal>=1.1.2 in /usr/local/lib/python3.10/dist-packages (from aiohttp<4.0.0,>=3.8.3->langchain==0.2.6) (1.3.1)\n",
            "Requirement already satisfied: attrs>=17.3.0 in /usr/local/lib/python3.10/dist-packages (from aiohttp<4.0.0,>=3.8.3->langchain==0.2.6) (23.2.0)\n",
            "Requirement already satisfied: frozenlist>=1.1.1 in /usr/local/lib/python3.10/dist-packages (from aiohttp<4.0.0,>=3.8.3->langchain==0.2.6) (1.4.1)\n",
            "Requirement already satisfied: multidict<7.0,>=4.5 in /usr/local/lib/python3.10/dist-packages (from aiohttp<4.0.0,>=3.8.3->langchain==0.2.6) (6.0.5)\n",
            "Requirement already satisfied: yarl<2.0,>=1.0 in /usr/local/lib/python3.10/dist-packages (from aiohttp<4.0.0,>=3.8.3->langchain==0.2.6) (1.9.4)\n",
            "Requirement already satisfied: jsonpatch<2.0,>=1.33 in /usr/local/lib/python3.10/dist-packages (from langchain-core<0.3.0,>=0.2.10->langchain==0.2.6) (1.33)\n",
            "Requirement already satisfied: packaging<25,>=23.2 in /usr/local/lib/python3.10/dist-packages (from langchain-core<0.3.0,>=0.2.10->langchain==0.2.6) (24.1)\n",
            "Requirement already satisfied: orjson<4.0.0,>=3.9.14 in /usr/local/lib/python3.10/dist-packages (from langsmith<0.2.0,>=0.1.17->langchain==0.2.6) (3.10.6)\n",
            "Requirement already satisfied: annotated-types>=0.4.0 in /usr/local/lib/python3.10/dist-packages (from pydantic<3,>=1->langchain==0.2.6) (0.7.0)\n",
            "Requirement already satisfied: pydantic-core==2.20.1 in /usr/local/lib/python3.10/dist-packages (from pydantic<3,>=1->langchain==0.2.6) (2.20.1)\n",
            "Requirement already satisfied: typing-extensions>=4.6.1 in /usr/local/lib/python3.10/dist-packages (from pydantic<3,>=1->langchain==0.2.6) (4.12.2)\n",
            "Requirement already satisfied: charset-normalizer<4,>=2 in /usr/local/lib/python3.10/dist-packages (from requests<3,>=2->langchain==0.2.6) (3.3.2)\n",
            "Requirement already satisfied: idna<4,>=2.5 in /usr/local/lib/python3.10/dist-packages (from requests<3,>=2->langchain==0.2.6) (3.7)\n",
            "Requirement already satisfied: urllib3<3,>=1.21.1 in /usr/local/lib/python3.10/dist-packages (from requests<3,>=2->langchain==0.2.6) (2.0.7)\n",
            "Requirement already satisfied: certifi>=2017.4.17 in /usr/local/lib/python3.10/dist-packages (from requests<3,>=2->langchain==0.2.6) (2024.7.4)\n",
            "Requirement already satisfied: greenlet!=0.4.17 in /usr/local/lib/python3.10/dist-packages (from SQLAlchemy<3,>=1.4->langchain==0.2.6) (3.0.3)\n",
            "Requirement already satisfied: jsonpointer>=1.9 in /usr/local/lib/python3.10/dist-packages (from jsonpatch<2.0,>=1.33->langchain-core<0.3.0,>=0.2.10->langchain==0.2.6) (3.0.0)\n",
            "Requirement already satisfied: huggingface_hub==0.23.4 in /usr/local/lib/python3.10/dist-packages (0.23.4)\n",
            "Requirement already satisfied: filelock in /usr/local/lib/python3.10/dist-packages (from huggingface_hub==0.23.4) (3.15.4)\n",
            "Requirement already satisfied: fsspec>=2023.5.0 in /usr/local/lib/python3.10/dist-packages (from huggingface_hub==0.23.4) (2023.6.0)\n",
            "Requirement already satisfied: packaging>=20.9 in /usr/local/lib/python3.10/dist-packages (from huggingface_hub==0.23.4) (24.1)\n",
            "Requirement already satisfied: pyyaml>=5.1 in /usr/local/lib/python3.10/dist-packages (from huggingface_hub==0.23.4) (6.0.1)\n",
            "Requirement already satisfied: requests in /usr/local/lib/python3.10/dist-packages (from huggingface_hub==0.23.4) (2.31.0)\n",
            "Requirement already satisfied: tqdm>=4.42.1 in /usr/local/lib/python3.10/dist-packages (from huggingface_hub==0.23.4) (4.66.4)\n",
            "Requirement already satisfied: typing-extensions>=3.7.4.3 in /usr/local/lib/python3.10/dist-packages (from huggingface_hub==0.23.4) (4.12.2)\n",
            "Requirement already satisfied: charset-normalizer<4,>=2 in /usr/local/lib/python3.10/dist-packages (from requests->huggingface_hub==0.23.4) (3.3.2)\n",
            "Requirement already satisfied: idna<4,>=2.5 in /usr/local/lib/python3.10/dist-packages (from requests->huggingface_hub==0.23.4) (3.7)\n",
            "Requirement already satisfied: urllib3<3,>=1.21.1 in /usr/local/lib/python3.10/dist-packages (from requests->huggingface_hub==0.23.4) (2.0.7)\n",
            "Requirement already satisfied: certifi>=2017.4.17 in /usr/local/lib/python3.10/dist-packages (from requests->huggingface_hub==0.23.4) (2024.7.4)\n",
            "Requirement already satisfied: langchain_huggingface==0.0.3 in /usr/local/lib/python3.10/dist-packages (0.0.3)\n",
            "Requirement already satisfied: huggingface-hub>=0.23.0 in /usr/local/lib/python3.10/dist-packages (from langchain_huggingface==0.0.3) (0.23.4)\n",
            "Requirement already satisfied: langchain-core<0.3,>=0.1.52 in /usr/local/lib/python3.10/dist-packages (from langchain_huggingface==0.0.3) (0.2.20)\n",
            "Requirement already satisfied: sentence-transformers>=2.6.0 in /usr/local/lib/python3.10/dist-packages (from langchain_huggingface==0.0.3) (3.0.1)\n",
            "Requirement already satisfied: tokenizers>=0.19.1 in /usr/local/lib/python3.10/dist-packages (from langchain_huggingface==0.0.3) (0.19.1)\n",
            "Requirement already satisfied: transformers>=4.39.0 in /usr/local/lib/python3.10/dist-packages (from langchain_huggingface==0.0.3) (4.42.3)\n",
            "Requirement already satisfied: filelock in /usr/local/lib/python3.10/dist-packages (from huggingface-hub>=0.23.0->langchain_huggingface==0.0.3) (3.15.4)\n",
            "Requirement already satisfied: fsspec>=2023.5.0 in /usr/local/lib/python3.10/dist-packages (from huggingface-hub>=0.23.0->langchain_huggingface==0.0.3) (2023.6.0)\n",
            "Requirement already satisfied: packaging>=20.9 in /usr/local/lib/python3.10/dist-packages (from huggingface-hub>=0.23.0->langchain_huggingface==0.0.3) (24.1)\n",
            "Requirement already satisfied: pyyaml>=5.1 in /usr/local/lib/python3.10/dist-packages (from huggingface-hub>=0.23.0->langchain_huggingface==0.0.3) (6.0.1)\n",
            "Requirement already satisfied: requests in /usr/local/lib/python3.10/dist-packages (from huggingface-hub>=0.23.0->langchain_huggingface==0.0.3) (2.31.0)\n",
            "Requirement already satisfied: tqdm>=4.42.1 in /usr/local/lib/python3.10/dist-packages (from huggingface-hub>=0.23.0->langchain_huggingface==0.0.3) (4.66.4)\n",
            "Requirement already satisfied: typing-extensions>=3.7.4.3 in /usr/local/lib/python3.10/dist-packages (from huggingface-hub>=0.23.0->langchain_huggingface==0.0.3) (4.12.2)\n",
            "Requirement already satisfied: jsonpatch<2.0,>=1.33 in /usr/local/lib/python3.10/dist-packages (from langchain-core<0.3,>=0.1.52->langchain_huggingface==0.0.3) (1.33)\n",
            "Requirement already satisfied: langsmith<0.2.0,>=0.1.75 in /usr/local/lib/python3.10/dist-packages (from langchain-core<0.3,>=0.1.52->langchain_huggingface==0.0.3) (0.1.88)\n",
            "Requirement already satisfied: pydantic<3,>=1 in /usr/local/lib/python3.10/dist-packages (from langchain-core<0.3,>=0.1.52->langchain_huggingface==0.0.3) (2.8.2)\n",
            "Requirement already satisfied: tenacity!=8.4.0,<9.0.0,>=8.1.0 in /usr/local/lib/python3.10/dist-packages (from langchain-core<0.3,>=0.1.52->langchain_huggingface==0.0.3) (8.5.0)\n",
            "Requirement already satisfied: torch>=1.11.0 in /usr/local/lib/python3.10/dist-packages (from sentence-transformers>=2.6.0->langchain_huggingface==0.0.3) (2.3.1)\n",
            "Requirement already satisfied: numpy in /usr/local/lib/python3.10/dist-packages (from sentence-transformers>=2.6.0->langchain_huggingface==0.0.3) (1.25.2)\n",
            "Requirement already satisfied: scikit-learn in /usr/local/lib/python3.10/dist-packages (from sentence-transformers>=2.6.0->langchain_huggingface==0.0.3) (1.2.2)\n",
            "Requirement already satisfied: scipy in /usr/local/lib/python3.10/dist-packages (from sentence-transformers>=2.6.0->langchain_huggingface==0.0.3) (1.11.4)\n",
            "Requirement already satisfied: Pillow in /usr/local/lib/python3.10/dist-packages (from sentence-transformers>=2.6.0->langchain_huggingface==0.0.3) (9.4.0)\n",
            "Requirement already satisfied: regex!=2019.12.17 in /usr/local/lib/python3.10/dist-packages (from transformers>=4.39.0->langchain_huggingface==0.0.3) (2024.5.15)\n",
            "Requirement already satisfied: safetensors>=0.4.1 in /usr/local/lib/python3.10/dist-packages (from transformers>=4.39.0->langchain_huggingface==0.0.3) (0.4.3)\n",
            "Requirement already satisfied: jsonpointer>=1.9 in /usr/local/lib/python3.10/dist-packages (from jsonpatch<2.0,>=1.33->langchain-core<0.3,>=0.1.52->langchain_huggingface==0.0.3) (3.0.0)\n",
            "Requirement already satisfied: orjson<4.0.0,>=3.9.14 in /usr/local/lib/python3.10/dist-packages (from langsmith<0.2.0,>=0.1.75->langchain-core<0.3,>=0.1.52->langchain_huggingface==0.0.3) (3.10.6)\n",
            "Requirement already satisfied: annotated-types>=0.4.0 in /usr/local/lib/python3.10/dist-packages (from pydantic<3,>=1->langchain-core<0.3,>=0.1.52->langchain_huggingface==0.0.3) (0.7.0)\n",
            "Requirement already satisfied: pydantic-core==2.20.1 in /usr/local/lib/python3.10/dist-packages (from pydantic<3,>=1->langchain-core<0.3,>=0.1.52->langchain_huggingface==0.0.3) (2.20.1)\n",
            "Requirement already satisfied: charset-normalizer<4,>=2 in /usr/local/lib/python3.10/dist-packages (from requests->huggingface-hub>=0.23.0->langchain_huggingface==0.0.3) (3.3.2)\n",
            "Requirement already satisfied: idna<4,>=2.5 in /usr/local/lib/python3.10/dist-packages (from requests->huggingface-hub>=0.23.0->langchain_huggingface==0.0.3) (3.7)\n",
            "Requirement already satisfied: urllib3<3,>=1.21.1 in /usr/local/lib/python3.10/dist-packages (from requests->huggingface-hub>=0.23.0->langchain_huggingface==0.0.3) (2.0.7)\n",
            "Requirement already satisfied: certifi>=2017.4.17 in /usr/local/lib/python3.10/dist-packages (from requests->huggingface-hub>=0.23.0->langchain_huggingface==0.0.3) (2024.7.4)\n",
            "Requirement already satisfied: sympy in /usr/local/lib/python3.10/dist-packages (from torch>=1.11.0->sentence-transformers>=2.6.0->langchain_huggingface==0.0.3) (1.13.0)\n",
            "Requirement already satisfied: networkx in /usr/local/lib/python3.10/dist-packages (from torch>=1.11.0->sentence-transformers>=2.6.0->langchain_huggingface==0.0.3) (3.3)\n",
            "Requirement already satisfied: jinja2 in /usr/local/lib/python3.10/dist-packages (from torch>=1.11.0->sentence-transformers>=2.6.0->langchain_huggingface==0.0.3) (3.1.4)\n",
            "Requirement already satisfied: nvidia-cuda-nvrtc-cu12==12.1.105 in /usr/local/lib/python3.10/dist-packages (from torch>=1.11.0->sentence-transformers>=2.6.0->langchain_huggingface==0.0.3) (12.1.105)\n",
            "Requirement already satisfied: nvidia-cuda-runtime-cu12==12.1.105 in /usr/local/lib/python3.10/dist-packages (from torch>=1.11.0->sentence-transformers>=2.6.0->langchain_huggingface==0.0.3) (12.1.105)\n",
            "Requirement already satisfied: nvidia-cuda-cupti-cu12==12.1.105 in /usr/local/lib/python3.10/dist-packages (from torch>=1.11.0->sentence-transformers>=2.6.0->langchain_huggingface==0.0.3) (12.1.105)\n",
            "Requirement already satisfied: nvidia-cudnn-cu12==8.9.2.26 in /usr/local/lib/python3.10/dist-packages (from torch>=1.11.0->sentence-transformers>=2.6.0->langchain_huggingface==0.0.3) (8.9.2.26)\n",
            "Requirement already satisfied: nvidia-cublas-cu12==12.1.3.1 in /usr/local/lib/python3.10/dist-packages (from torch>=1.11.0->sentence-transformers>=2.6.0->langchain_huggingface==0.0.3) (12.1.3.1)\n",
            "Requirement already satisfied: nvidia-cufft-cu12==11.0.2.54 in /usr/local/lib/python3.10/dist-packages (from torch>=1.11.0->sentence-transformers>=2.6.0->langchain_huggingface==0.0.3) (11.0.2.54)\n",
            "Requirement already satisfied: nvidia-curand-cu12==10.3.2.106 in /usr/local/lib/python3.10/dist-packages (from torch>=1.11.0->sentence-transformers>=2.6.0->langchain_huggingface==0.0.3) (10.3.2.106)\n",
            "Requirement already satisfied: nvidia-cusolver-cu12==11.4.5.107 in /usr/local/lib/python3.10/dist-packages (from torch>=1.11.0->sentence-transformers>=2.6.0->langchain_huggingface==0.0.3) (11.4.5.107)\n",
            "Requirement already satisfied: nvidia-cusparse-cu12==12.1.0.106 in /usr/local/lib/python3.10/dist-packages (from torch>=1.11.0->sentence-transformers>=2.6.0->langchain_huggingface==0.0.3) (12.1.0.106)\n",
            "Requirement already satisfied: nvidia-nccl-cu12==2.20.5 in /usr/local/lib/python3.10/dist-packages (from torch>=1.11.0->sentence-transformers>=2.6.0->langchain_huggingface==0.0.3) (2.20.5)\n",
            "Requirement already satisfied: nvidia-nvtx-cu12==12.1.105 in /usr/local/lib/python3.10/dist-packages (from torch>=1.11.0->sentence-transformers>=2.6.0->langchain_huggingface==0.0.3) (12.1.105)\n",
            "Requirement already satisfied: triton==2.3.1 in /usr/local/lib/python3.10/dist-packages (from torch>=1.11.0->sentence-transformers>=2.6.0->langchain_huggingface==0.0.3) (2.3.1)\n",
            "Requirement already satisfied: nvidia-nvjitlink-cu12 in /usr/local/lib/python3.10/dist-packages (from nvidia-cusolver-cu12==11.4.5.107->torch>=1.11.0->sentence-transformers>=2.6.0->langchain_huggingface==0.0.3) (12.5.82)\n",
            "Requirement already satisfied: joblib>=1.1.1 in /usr/local/lib/python3.10/dist-packages (from scikit-learn->sentence-transformers>=2.6.0->langchain_huggingface==0.0.3) (1.4.2)\n",
            "Requirement already satisfied: threadpoolctl>=2.0.0 in /usr/local/lib/python3.10/dist-packages (from scikit-learn->sentence-transformers>=2.6.0->langchain_huggingface==0.0.3) (3.5.0)\n",
            "Requirement already satisfied: MarkupSafe>=2.0 in /usr/local/lib/python3.10/dist-packages (from jinja2->torch>=1.11.0->sentence-transformers>=2.6.0->langchain_huggingface==0.0.3) (2.1.5)\n",
            "Requirement already satisfied: mpmath<1.4,>=1.1.0 in /usr/local/lib/python3.10/dist-packages (from sympy->torch>=1.11.0->sentence-transformers>=2.6.0->langchain_huggingface==0.0.3) (1.3.0)\n"
          ]
        }
      ]
    },
    {
      "cell_type": "markdown",
      "source": [
        "**3) Verify that GPU is being used**"
      ],
      "metadata": {
        "id": "MBMJEdCnBbky"
      }
    },
    {
      "cell_type": "code",
      "source": [
        "import torch\n",
        "print(torch.cuda.is_available())\n",
        "print(torch.cuda.get_device_name(0))"
      ],
      "metadata": {
        "colab": {
          "base_uri": "https://localhost:8080/"
        },
        "id": "sBeXNqjBBfm8",
        "outputId": "a4baa025-63bf-4705-97d2-22b7c7ec7150"
      },
      "execution_count": 2,
      "outputs": [
        {
          "output_type": "stream",
          "name": "stdout",
          "text": [
            "True\n",
            "Tesla T4\n"
          ]
        }
      ]
    },
    {
      "cell_type": "markdown",
      "source": [
        "**4) Download Model**"
      ],
      "metadata": {
        "id": "V2YEBxmaBlWE"
      }
    },
    {
      "cell_type": "code",
      "source": [
        "from huggingface_hub import notebook_login\n",
        "notebook_login()"
      ],
      "metadata": {
        "colab": {
          "base_uri": "https://localhost:8080/",
          "height": 145,
          "referenced_widgets": [
            "446dfee355b14e029f5ad82ac159e695",
            "5e06e23c2f8545368501963784e3d35a",
            "931cb9f9a5da4562b232b596e628c843",
            "ff65c57f3a374aa190ee5e295547b602",
            "11eb4256d78d43ee903c2884772e4655",
            "8afc146e1b3e484ab6f9f1d04debaf32",
            "5c82a88ef8854810a84de6145c07bbad",
            "7838cb0970494980bf524272ed789288",
            "b1e809e525bc4462af94de94481286df",
            "87c78066c02e48a38f2cc7d705f212a4",
            "f710e3fe71db44cfbc5e76daa084fcfd",
            "30c5c0687c7b40b28c02b35f5d6d84d8",
            "e3a07c1d162b49549096c178b22fb47e",
            "e038fe1f3b1745c4b200674399321bfc",
            "47aef8c1f95045139a1f622525fd7283",
            "15c72d26695b45fab149ee9d1dbbde58",
            "ea25c320a34e43cea6c4a218c999e2c4",
            "9e29b3c0ef0744bd92865a4c78d76888",
            "c923536545da4769bfbc9fed746b58f1",
            "c231c1e8b77b4ef39406ceaba75a17cb",
            "19da638ff98b44b89868b49dcefa8d27",
            "a3c22d1933b943b7b9074d43bb1d3d36",
            "c675ef370f4a498090af8450921ca4e2",
            "acd442bd5a6d4e288d6fa38f48cbe0f1",
            "548e4285230a4605b9b4f7c99ea276fb",
            "2775b6799c8f4a6cbb581c159fff997b",
            "15a09388d451456f97f2efa2e7f26c7e",
            "ad6a3d34bfec489e81615ab8656fd9ae",
            "c2b8fcb2944d4c198bf51d381144d30e",
            "9737179e1bc94675be59b12477f06ae2",
            "51b5eb7508d64ff39fb23c861c1ca7d3",
            "b7c3a371e9224418ba7d890b793b3e06"
          ]
        },
        "id": "OVvZJJHGBr5F",
        "outputId": "0e713e59-700f-4779-9180-c196056018bb"
      },
      "execution_count": 6,
      "outputs": [
        {
          "output_type": "display_data",
          "data": {
            "text/plain": [
              "VBox(children=(HTML(value='<center> <img\\nsrc=https://huggingface.co/front/assets/huggingface_logo-noborder.sv…"
            ],
            "application/vnd.jupyter.widget-view+json": {
              "version_major": 2,
              "version_minor": 0,
              "model_id": "446dfee355b14e029f5ad82ac159e695"
            }
          },
          "metadata": {}
        }
      ]
    },
    {
      "cell_type": "code",
      "source": [
        "\n",
        "import transformers\n",
        "\n",
        "#model_id = \"meta-llama/Meta-Llama-3-8B-Instruct\"\n",
        "\n",
        "pipeline = transformers.pipeline(\n",
        "    \"text-generation\",\n",
        "    model= \"microsoft/Phi-3-mini-4k-instruct\",\n",
        "    # The quantization line\n",
        "    model_kwargs={\"torch_dtype\": torch.bfloat16, \"load_in_4bit\": True},\n",
        "    max_new_tokens=2048  # Increase the max tokens to your desired value\n",
        ")\n"
      ],
      "metadata": {
        "colab": {
          "base_uri": "https://localhost:8080/",
          "height": 123,
          "referenced_widgets": [
            "01ee776ff8584f6d9d20c9e972d6cccd",
            "ca72de9768c4489d9030d1a27df5d670",
            "5852efbb35794d98b8bc20c2055973aa",
            "b5db2ef4d8434f23aba2fc3e9b507dc2",
            "c441949c2ea6435cb83a0fc2f63dbb88",
            "c468f8377c1f4dc5805801fd6013791d",
            "da4f9863f7ba4b53bbcdbf1f13ef45ad",
            "9325773ea2224138905572437dbd518f",
            "5940f55d5a8544c5abab2e401286d55b",
            "5c1c75eb979942d095af6fa24de1fe5f",
            "0c0f4066547340c289abb5ff66d7916a"
          ]
        },
        "id": "jdFJ4v9sDzvF",
        "outputId": "b4d11e4b-e39f-4c46-944f-5d9764d1895a"
      },
      "execution_count": 26,
      "outputs": [
        {
          "output_type": "stream",
          "name": "stderr",
          "text": [
            "The `load_in_4bit` and `load_in_8bit` arguments are deprecated and will be removed in the future versions. Please, pass a `BitsAndBytesConfig` object in `quantization_config` argument instead.\n",
            "`low_cpu_mem_usage` was None, now set to True since model is quantized.\n"
          ]
        },
        {
          "output_type": "display_data",
          "data": {
            "text/plain": [
              "Loading checkpoint shards:   0%|          | 0/2 [00:00<?, ?it/s]"
            ],
            "application/vnd.jupyter.widget-view+json": {
              "version_major": 2,
              "version_minor": 0,
              "model_id": "01ee776ff8584f6d9d20c9e972d6cccd"
            }
          },
          "metadata": {}
        },
        {
          "output_type": "stream",
          "name": "stderr",
          "text": [
            "Special tokens have been added in the vocabulary, make sure the associated word embeddings are fine-tuned or trained.\n"
          ]
        }
      ]
    },
    {
      "cell_type": "markdown",
      "source": [
        "**5) Create Pipeline**"
      ],
      "metadata": {
        "id": "rrkieUDrBw7i"
      }
    },
    {
      "cell_type": "code",
      "source": [
        "from langchain_huggingface.llms import HuggingFacePipeline\n",
        "hf = HuggingFacePipeline(pipeline=pipeline)"
      ],
      "metadata": {
        "id": "x988ckenB4xj"
      },
      "execution_count": 4,
      "outputs": []
    },
    {
      "cell_type": "markdown",
      "source": [
        "**6) Install Wikipedia API:**"
      ],
      "metadata": {
        "id": "D7h6cw8TB6fA"
      }
    },
    {
      "cell_type": "code",
      "source": [
        "!pip install wikipedia-api==0.6.0"
      ],
      "metadata": {
        "colab": {
          "base_uri": "https://localhost:8080/"
        },
        "id": "G-Rn4V7hB-Zx",
        "outputId": "01a590ad-17d3-4558-89b4-823797ed83c6"
      },
      "execution_count": 5,
      "outputs": [
        {
          "output_type": "stream",
          "name": "stdout",
          "text": [
            "Collecting wikipedia-api==0.6.0\n",
            "  Downloading Wikipedia_API-0.6.0-py3-none-any.whl (14 kB)\n",
            "Requirement already satisfied: requests in /usr/local/lib/python3.10/dist-packages (from wikipedia-api==0.6.0) (2.31.0)\n",
            "Requirement already satisfied: charset-normalizer<4,>=2 in /usr/local/lib/python3.10/dist-packages (from requests->wikipedia-api==0.6.0) (3.3.2)\n",
            "Requirement already satisfied: idna<4,>=2.5 in /usr/local/lib/python3.10/dist-packages (from requests->wikipedia-api==0.6.0) (3.7)\n",
            "Requirement already satisfied: urllib3<3,>=1.21.1 in /usr/local/lib/python3.10/dist-packages (from requests->wikipedia-api==0.6.0) (2.0.7)\n",
            "Requirement already satisfied: certifi>=2017.4.17 in /usr/local/lib/python3.10/dist-packages (from requests->wikipedia-api==0.6.0) (2024.7.4)\n",
            "Installing collected packages: wikipedia-api\n",
            "Successfully installed wikipedia-api-0.6.0\n"
          ]
        }
      ]
    },
    {
      "cell_type": "code",
      "source": [
        "import wikipediaapi\n",
        "\n",
        "def fetch_wikipedia_article(article_title):\n",
        "    wiki_wiki = wikipediaapi.Wikipedia('Wikipedia RAG Demo/1.0()', 'en')\n",
        "    page = wiki_wiki.page(article_title)\n",
        "    if page.exists():\n",
        "        return page.text\n",
        "    else:\n",
        "        return \"\"\n",
        "\n",
        "# Example usage\n",
        "article_title = \"Generative artificial intelligence\"\n",
        "wiki_text = fetch_wikipedia_article(article_title)"
      ],
      "metadata": {
        "id": "cu1d4DnLCEBa"
      },
      "execution_count": 6,
      "outputs": []
    },
    {
      "cell_type": "markdown",
      "source": [
        "**8)Install Vector DB:**"
      ],
      "metadata": {
        "id": "txU_8oO4B2Hi"
      }
    },
    {
      "cell_type": "code",
      "source": [
        "!pip install faiss-cpu==1.8.0.post1"
      ],
      "metadata": {
        "colab": {
          "base_uri": "https://localhost:8080/"
        },
        "id": "CW2w0_bYCQSu",
        "outputId": "3bb89804-fa2e-49e9-d300-2af26b844f34"
      },
      "execution_count": 7,
      "outputs": [
        {
          "output_type": "stream",
          "name": "stdout",
          "text": [
            "Collecting faiss-cpu==1.8.0.post1\n",
            "  Downloading faiss_cpu-1.8.0.post1-cp310-cp310-manylinux_2_17_x86_64.manylinux2014_x86_64.whl (27.0 MB)\n",
            "\u001b[2K     \u001b[90m━━━━━━━━━━━━━━━━━━━━━━━━━━━━━━━━━━━━━━━━\u001b[0m \u001b[32m27.0/27.0 MB\u001b[0m \u001b[31m48.7 MB/s\u001b[0m eta \u001b[36m0:00:00\u001b[0m\n",
            "\u001b[?25hRequirement already satisfied: numpy<2.0,>=1.0 in /usr/local/lib/python3.10/dist-packages (from faiss-cpu==1.8.0.post1) (1.25.2)\n",
            "Requirement already satisfied: packaging in /usr/local/lib/python3.10/dist-packages (from faiss-cpu==1.8.0.post1) (24.1)\n",
            "Installing collected packages: faiss-cpu\n",
            "Successfully installed faiss-cpu-1.8.0.post1\n"
          ]
        }
      ]
    },
    {
      "cell_type": "markdown",
      "source": [
        "**9)Create embeddings and Save to Vector DB:**"
      ],
      "metadata": {
        "id": "Oqdfg_9ECSfL"
      }
    },
    {
      "cell_type": "code",
      "source": [
        "import faiss\n",
        "import transformers\n",
        "import numpy as np\n",
        "import torch\n",
        "\n",
        "# Function to generate embeddings\n",
        "def generate_embeddings(texts, model_name='sentence-transformers/paraphrase-MiniLM-L6-v2'):\n",
        "    tokenizer = transformers.AutoTokenizer.from_pretrained(model_name)\n",
        "    model = transformers.AutoModel.from_pretrained(model_name)\n",
        "\n",
        "    inputs = tokenizer(texts, return_tensors='pt', padding=True, truncation=True)\n",
        "    with torch.no_grad():\n",
        "        embeddings = model(**inputs).last_hidden_state.mean(dim=1).numpy()\n",
        "\n",
        "    return embeddings\n",
        "\n",
        "# Generate embeddings for the Wikipedia text\n",
        "sentences = wiki_text.split('\\n')  # Split the text into sentences\n",
        "embeddings = generate_embeddings(sentences)\n",
        "\n",
        "# Create a FAISS index and add the embeddings\n",
        "index = faiss.IndexFlatL2(embeddings.shape[1])\n",
        "index.add(np.array(embeddings))\n",
        "\n",
        "# Function to perform similarity search\n",
        "def search_index(query, top_k=5):\n",
        "    query_embedding = generate_embeddings([query])\n",
        "    distances, indices = index.search(np.array(query_embedding), top_k)\n",
        "    return [sentences[i] for i in indices[0]]\n"
      ],
      "metadata": {
        "id": "TxcQR5jSCX0K"
      },
      "execution_count": 22,
      "outputs": []
    },
    {
      "cell_type": "markdown",
      "source": [
        "**10)Final Step**"
      ],
      "metadata": {
        "id": "lKkSWes1CdhI"
      }
    },
    {
      "cell_type": "markdown",
      "source": [
        "**Without RAG:**"
      ],
      "metadata": {
        "id": "kyixrNi3LVzs"
      }
    },
    {
      "cell_type": "code",
      "source": [
        "from langchain.chains import LLMChain\n",
        "from langchain.prompts import PromptTemplate\n",
        "\n",
        "# Create the HuggingFacePipeline\n",
        "hf = HuggingFacePipeline(pipeline=pipeline)\n",
        "\n",
        "# Define your prompt template\n",
        "template = \"\"\"\n",
        "Task :Answer the Question Asked<|end|>\n",
        "Question: {question}<|end|>\n",
        "Answer: \"\"\"\n",
        "prompt_template = PromptTemplate.from_template(template)\n",
        "\n",
        "chain = prompt_template | hf\n",
        "\n",
        "question = \"Please generate history of Generative Artificial Intelligence.\"\n",
        "\n",
        "print(chain.invoke({\"question\": question}))"
      ],
      "metadata": {
        "colab": {
          "base_uri": "https://localhost:8080/"
        },
        "id": "hJUSh99VLYPh",
        "outputId": "d6dbadc9-f420-4637-c381-c02386b69ebf"
      },
      "execution_count": 29,
      "outputs": [
        {
          "output_type": "stream",
          "name": "stdout",
          "text": [
            "\n",
            "Task :Answer the Question Asked<|end|> \n",
            "Question: Please generate history of Generative Artificial Intelligence.<|end|>\n",
            "Answer: \n",
            "\n",
            "The history of Generative Artificial Intelligence (GAI) can be traced back to the early days of computing and artificial intelligence. Here's a brief overview:\n",
            "\n",
            "1. Early Concepts (1950s-1960s): The concept of generative art, which involves creating art through algorithms and computational processes, can be traced back to the early days of computing. In the 1950s and 1960s, pioneers like John McCarthy and Marvin Minsky were working on early AI systems, laying the groundwork for generative techniques.\n",
            "\n",
            "2. Computer Art (1960s-1970s): The first computer art exhibitions took place in the 1960s, showcasing the potential of generative art. Artists like Georg Nees and Frieder Nake were creating algorithmic art using computers, demonstrating the intersection of art and technology.\n",
            "\n",
            "3. Fractal Art (1970s-1980s): In the 1970s and 1980s, fractal art emerged as a popular form of generative art. Mathematicians like Benoît B. Mandelbrot developed fractal geometry, which artists like Ken Rees and Frieder Nake used to create intricate, self-repeating patterns.\n",
            "\n",
            "4. Computer Graphics (1980s-1990s): The development of computer graphics software like Adobe Photoshop and 3D modeling tools in the 1980s and 1990s allowed artists to create more complex generative art. Artists like Vera Molnar and Manfred Mohr used these tools to create algorithmic sculptures and installations.\n",
            "\n",
            "5. Internet Art (1990s-2000s): With the rise of the internet in the 1990s and early 2000s, generative art found a new platform for distribution and interaction. Artists like Corynne Seguin and R. Luke Howard created interactive generative artworks that allowed viewers to engage with the art in real-time.\n",
            "\n",
            "6. Machine Learning and AI (2000s-Present): The advancements in machine learning and AI in the 21st century have led to a new wave of generative art. Artists like Refik Refet created generative artworks using neural networks, while others like Mario Klingemann used generative adversarial networks (GANs) to create unique, AI-generated artworks.\n",
            "\n",
            "7. Virtual Reality (2010s-Present): The rise of virtual reality technology has also influenced generative art, with artists like Alexandra Billups creating immersive, interactive generative art experiences.\n",
            "\n",
            "Throughout its history, generative art has been shaped by advancements in technology, mathematics, and computer science. As we continue to develop new tools and techniques, the possibilities for generative art will only continue to grow.\n"
          ]
        }
      ]
    },
    {
      "cell_type": "markdown",
      "source": [
        "**With RAG:**"
      ],
      "metadata": {
        "id": "UuL7ng6BL3-B"
      }
    },
    {
      "cell_type": "code",
      "source": [
        "template = template = \"\"\"\n",
        "Task :Answer the Question Asked. Also make use of context while answering the question<|end|>\n",
        "Context:{context}<|end|>\n",
        "Question: {question}<|end|>\n",
        "Answer: \"\"\"\n",
        "prompt_template_for_rag = PromptTemplate.from_template(template)\n",
        "\n",
        "def rag_generate(question):\n",
        "    context = \"\\n\".join(search_index(question))\n",
        "    llm_chain = LLMChain(llm=hf, prompt=prompt_template_for_rag)\n",
        "    result = llm_chain.run({\"context\": context, \"question\": question})\n",
        "    return result\n",
        "\n",
        "question = \"Please generate history of Generative Artificial Intelligence.\"\n",
        "answer = rag_generate(question)\n",
        "print(answer)"
      ],
      "metadata": {
        "colab": {
          "base_uri": "https://localhost:8080/"
        },
        "id": "-nNyNoFJChOB",
        "outputId": "d7e88ce8-a2b0-4ac2-ba00-c3a079c71dee"
      },
      "execution_count": 30,
      "outputs": [
        {
          "output_type": "stream",
          "name": "stdout",
          "text": [
            "\n",
            "Task :Answer the Question Asked. Also make use of context while answering the question<|end|> \n",
            "Context:Artificial Intelligence is an idea that has been captivating society since the mid-20th century. It began with science fiction familiarizing the world with the concept but the idea was not fully seen in the scientific manner until Alan Turing, a polymath, was curious about the feasibility of the concept. Turing's groundbreaking 1950 paper, \"Computing Machinery and Intelligence,\" posed fundamental questions about machine reasoning similar to human intelligence, significantly contributing to the conceptual groundwork of AI. The development of AI was not very rapid at first because of the high costs and the fact that computers were not able to store commands. This changed during the 1956 Dartmouth Summer Research Project on AI where there was an inspiring call for AI research, setting the precedent for two decades of rapid advancements in the field.\n",
            "The academic discipline of artificial intelligence was established at a research workshop held at Dartmouth College in 1956 and has experienced several waves of advancement and optimism in the decades since. Since its inception, researchers in the field have raised philosophical and ethical arguments about the nature of the human mind and the consequences of creating artificial beings with human-like intelligence; these issues have previously been explored by myth, fiction and philosophy since antiquity. The concept of automated art dates back at least to the automata of ancient Greek civilization, where inventors such as Daedalus and Hero of Alexandria were described as having designed machines capable of writing text, generating sounds, and playing music. The tradition of creative automatons has flourished throughout history, exemplified by Maillardet's automaton created in the early 1800s.\n",
            "The development of generative AI has raised concerns from governments, businesses, and individuals, resulting in protests, legal actions, calls to pause AI experiments, and actions by multiple governments. In a July 2023 briefing of the United Nations Security Council, Secretary-General António Guterres stated \"Generative AI has enormous potential for good and evil at scale\", that AI may \"turbocharge global development\" and contribute between $10 and $15 trillion to the global economy by 2030, but that its malicious use \"could cause horrific levels of death and destruction, widespread trauma, and deep psychological damage on an unimaginable scale\".\n",
            "In March 2023, GPT-4 was released. A team from Microsoft Research argued that \"it could reasonably be viewed as an early (yet still incomplete) version of an artificial general intelligence (AGI) system\". Other scholars have disputed that GPT-4 reaches this threshold, calling generative AI \"still far from reaching the benchmark of ‘general human intelligence’\" as of 2023. In 2023, Meta released an AI model called ImageBind which combines data from text, images, video, thermal data, 3D data, audio, and motion which is expected to allow for more immersive generative AI content.\n",
            "Generative AI can also be trained on the motions of a robotic system to generate new trajectories for motion planning or navigation. For example, UniPi from Google Research uses prompts like \"pick up blue bowl\" or \"wipe plate with yellow sponge\" to control movements of a robot arm. Multimodal \"vision-language-action\" models such as Google's RT-2 can perform rudimentary reasoning in response to user prompts and visual input, such as picking up a toy dinosaur when given the prompt pick up the extinct animal at a table filled with toy animals and other objects.<|end|>\n",
            "Question: Please generate history of Generative Artificial Intelligence.<|end|>\n",
            "Answer: \n",
            "The history of Generative Artificial Intelligence (AI) is a fascinating journey that spans centuries, reflecting humanity's enduring fascination with creating intelligent machines. This journey can be tracled back to ancient times when myths and legends spoke of automata capable of writing, generating sounds, and playing music. In the early 1800s, Maillert's automaton exemplified this tradition, showcasing the human desire to create machines that could mimic human actions.\n",
            "\n",
            "The concept of automated art and intelligence took a significant leap forward with the advent of computer science in the mid-20th century. Alan Turing, a polymath and a pioneer in computer science, posed fundamental questions about machine reasoning in his groundbreaking 1950 paper, \"Computing Machinery and Intelligence.\" Turing's work laid the groundwork for the conceptualization of AI, marking the beginning of a new era in human history.\n",
            "\n",
            "The development of AI was initially slow due to the high costs and the limited capabilities of computers. However, this changed during the 1956 Dartmouth Summer Research Project on AI, where a call for AI research sparked two decades of rapid advancements in the field. This period marked the establishment of the academic discipline of artificial intelligence at a research workshop held at Dartmouth College in 1956.\n",
            "\n",
            "The field of AI has since experienced several waves of advancement and optimism. Researchers have raised philosophical and ethical arguments about the nature of the human mind and the consequences of creating artificial beings with human-like intelligence. These issues have been explored by myth, fiction, and philosophy since antiquity, reflecting the deep-rooted human fascination with creating intelligent machines.\n",
            "\n",
            "In recent years, the development of generative AI has raised concerns from governments, businesses, and individuals. Protests, legal actions, and calls to pause AI experiments have been observed worldwide. In a July 2023 briefing of the United Nations Security Council, Secretary-General António Guterres stated that generative AI has enormous potential for both good and evil at scale. He highlighted the potential of AI to \"turbocharge global development\" and contribute between $10 and $15 trillion to the global economy by 2дя 2030. However, he also warned of the potential for \"horrific levels of death and destruction, widespread trauma, and deep psychological damage on an unimaginable scale.\"\n",
            "\n",
            "In March 2023, Microsoft Research released GPT-4, an AI model that could reasonably be viewed as an early version of an artificial general intelligence (AGI) system. However, other scholars have disputed this claim, arguing that GPT-4 still falls short of reaching the benchmark of 'general human intelligence.'\n",
            "\n",
            "In 2023, Meta released an AI model called ImageBind, which combines data from text, images, video, thermal data, 3D data, audio, and motion. This model is expected to allow for more immersive generative AI content.\n",
            "\n",
            "Generative AI can also be trained on the motions of a robotic system to generate new trajectories for motion planning or navigation. For example, UniPi from Google Research uses prompts like \"pick up blue bowl\" or \"wipe plate with yellow sponge\" to control movements of a robot arm. Multimodal \"vision-language-action\" models such as Google's RT-2 can perform rudimentary reasoning in response to user prompts and visual input, such as picking up a toy dinosaur when given the prompt pick up the extinct animal at a table filled with toy animals and other objects.\n",
            "\n",
            "The history of Generative AI is a testament to humanity's relentless pursuit of creating intelligent machines. It reflects our aspiration to create machines that can mimic human actions, reason, and even generate new content. As we continue to advance in this field, it is crucial to address the ethical and philosophical questions that arise, ensuring that we harness the power of AI for the betterment of humanity.\n"
          ]
        }
      ]
    }
  ]
}